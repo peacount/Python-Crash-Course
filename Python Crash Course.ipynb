{
    "cells": [
        {
            "cell_type": "markdown",
            "metadata": {},
            "source": [
                "4.3"
            ]
        },
        {
            "cell_type": "code",
            "execution_count": 1,
            "metadata": {},
            "outputs": [
                {
                    "name": "stdout",
                    "output_type": "stream",
                    "text": [
                        "1\n",
                        "2\n",
                        "3\n",
                        "4\n",
                        "5\n",
                        "6\n",
                        "7\n",
                        "8\n",
                        "9\n",
                        "10\n",
                        "11\n",
                        "12\n",
                        "13\n",
                        "14\n",
                        "15\n",
                        "16\n",
                        "17\n",
                        "18\n",
                        "19\n",
                        "20\n"
                    ]
                }
            ],
            "source": [
                "for number in range (1,21):  # for number in list(range(1,21))\n",
                "    print (number)"
            ]
        },
        {
            "cell_type": "markdown",
            "metadata": {},
            "source": [
                "4.5"
            ]
        },
        {
            "cell_type": "code",
            "execution_count": 6,
            "metadata": {},
            "outputs": [
                {
                    "name": "stdout",
                    "output_type": "stream",
                    "text": [
                        "1\n",
                        "1000000\n"
                    ]
                },
                {
                    "data": {
                        "text/plain": [
                            "500000500000"
                        ]
                    },
                    "execution_count": 6,
                    "metadata": {},
                    "output_type": "execute_result"
                }
            ],
            "source": [
                "my_numbers = list(range(1, 1000001))\n",
                "print(min(my_numbers))\n",
                "print(max(my_numbers))\n",
                "sum(my_numbers)\n"
            ]
        },
        {
            "cell_type": "markdown",
            "metadata": {},
            "source": [
                "4.7"
            ]
        },
        {
            "cell_type": "code",
            "execution_count": 11,
            "metadata": {},
            "outputs": [
                {
                    "name": "stdout",
                    "output_type": "stream",
                    "text": [
                        "3\n",
                        "6\n",
                        "9\n",
                        "12\n",
                        "15\n",
                        "18\n",
                        "21\n",
                        "24\n",
                        "27\n",
                        "30\n"
                    ]
                }
            ],
            "source": [
                "multiples = list(range(3,31,3))\n",
                "\n",
                "for multiple in multiples:\n",
                "    print(multiple)\n",
                "    "
            ]
        },
        {
            "cell_type": "markdown",
            "metadata": {},
            "source": [
                "4.8"
            ]
        },
        {
            "cell_type": "code",
            "execution_count": 13,
            "metadata": {},
            "outputs": [
                {
                    "name": "stdout",
                    "output_type": "stream",
                    "text": [
                        "1\n",
                        "8\n",
                        "27\n",
                        "64\n",
                        "125\n",
                        "216\n",
                        "343\n",
                        "512\n",
                        "729\n",
                        "1000\n"
                    ]
                }
            ],
            "source": [
                "cubes = list(range (1, 11))\n",
                "for cube in cubes:\n",
                "    final = cube**3\n",
                "    print (final)"
            ]
        },
        {
            "cell_type": "code",
            "execution_count": 16,
            "metadata": {},
            "outputs": [
                {
                    "name": "stdout",
                    "output_type": "stream",
                    "text": [
                        "1\n",
                        "8\n",
                        "27\n",
                        "64\n",
                        "125\n",
                        "216\n",
                        "343\n",
                        "512\n",
                        "729\n",
                        "1000\n"
                    ]
                }
            ],
            "source": [
                "cubes = []\n",
                "for number in range(1,11):\n",
                "    a = number**3\n",
                "    cubes.append(a)\n",
                "\n",
                "for cube in cubes:\n",
                "    print (cube)"
            ]
        },
        {
            "cell_type": "markdown",
            "metadata": {},
            "source": [
                "4.9"
            ]
        },
        {
            "cell_type": "code",
            "execution_count": 17,
            "metadata": {},
            "outputs": [
                {
                    "name": "stdout",
                    "output_type": "stream",
                    "text": [
                        "1\n",
                        "8\n",
                        "27\n",
                        "64\n",
                        "125\n",
                        "216\n",
                        "343\n",
                        "512\n",
                        "729\n",
                        "1000\n"
                    ]
                }
            ],
            "source": [
                "cubes = [number**3 for number in range(1,11)]\n",
                "\n",
                "for cube in cubes:\n",
                "    print(cube)"
            ]
        },
        {
            "cell_type": "code",
            "execution_count": 5,
            "metadata": {},
            "outputs": [
                {
                    "name": "stdout",
                    "output_type": "stream",
                    "text": [
                        "Alice, that was a great trick!\n",
                        "David, that was a great trick!\n",
                        "Carolina, that was a great trick!\n"
                    ]
                }
            ],
            "source": [
                "magicians = ['alice', 'david', 'carolina']\n",
                "for magician in magicians:\n",
                "    print(f\"{magician.title()}, that was a great trick!\")"
            ]
        },
        {
            "cell_type": "markdown",
            "metadata": {},
            "source": [
                "4.10"
            ]
        },
        {
            "cell_type": "code",
            "execution_count": 2,
            "metadata": {},
            "outputs": [
                {
                    "name": "stdout",
                    "output_type": "stream",
                    "text": [
                        "['pizza', 'falafel']\n"
                    ]
                }
            ],
            "source": [
                "my_foods = ['pizza', 'falafel', 'carrot cake', 'cannoli']\n",
                "print(my_foods[:2])"
            ]
        },
        {
            "cell_type": "code",
            "execution_count": 4,
            "metadata": {},
            "outputs": [
                {
                    "name": "stdout",
                    "output_type": "stream",
                    "text": [
                        "['falafel', 'carrot cake', 'cannoli']\n"
                    ]
                }
            ],
            "source": [
                "print(my_foods[1:4])"
            ]
        },
        {
            "cell_type": "code",
            "execution_count": 6,
            "metadata": {},
            "outputs": [
                {
                    "name": "stdout",
                    "output_type": "stream",
                    "text": [
                        "['falafel', 'carrot cake', 'cannoli']\n"
                    ]
                }
            ],
            "source": [
                "print(my_foods[-3:])"
            ]
        },
        {
            "cell_type": "markdown",
            "metadata": {},
            "source": [
                "4.1 & 4.11"
            ]
        },
        {
            "cell_type": "code",
            "execution_count": 9,
            "metadata": {},
            "outputs": [
                {
                    "name": "stdout",
                    "output_type": "stream",
                    "text": [
                        "hawaian\n",
                        "poscuitto\n",
                        "salami\n",
                        "magherita\n"
                    ]
                }
            ],
            "source": [
                "pizzas  = ['hawaian', 'poscuitto', 'salami', 'magherita']\n",
                "for pizza in pizzas:\n",
                "    print(pizza)"
            ]
        },
        {
            "cell_type": "code",
            "execution_count": 42,
            "metadata": {},
            "outputs": [
                {
                    "name": "stdout",
                    "output_type": "stream",
                    "text": [
                        "I love hawaian\n",
                        "I love poscuitto\n",
                        "I love salami\n",
                        "I love magherita\n",
                        "I really love pizza!\n"
                    ]
                }
            ],
            "source": [
                "pizzas  = ['hawaian', 'poscuitto', 'salami', 'magherita']\n",
                "for pizza in pizzas:\n",
                "    print('I love ' f\"{pizza}\")\n",
                "print (\"I really love pizza!\")"
            ]
        },
        {
            "cell_type": "code",
            "execution_count": 46,
            "metadata": {},
            "outputs": [
                {
                    "name": "stdout",
                    "output_type": "stream",
                    "text": [
                        "My favourite pizzas are: \n",
                        " * Hawaian\n",
                        " * Poscuitto\n",
                        " * Salami\n",
                        " * Magherita\n",
                        " * Prawns\n",
                        "\n",
                        "But favourite pizzas of my friend are: \n",
                        " *hawaian\n",
                        " *poscuitto\n",
                        " *salami\n",
                        " *magherita\n",
                        " *egg\n"
                    ]
                }
            ],
            "source": [
                "pizzas  = ['hawaian', 'poscuitto', 'salami', 'magherita']\n",
                "freind_pizzas  = ['hawaian', 'poscuitto', 'salami', 'magherita'] # Better code os freiend_pizzas = pizzas [:]\n",
                "\n",
                "pizzas.append('prawns')\n",
                "print('My favourite pizzas are: ')\n",
                "for pizza in pizzas:\n",
                "    print(' * ' f\"{pizza.title()}\")\n",
                "\n",
                "freind_pizzas.append('egg')\n",
                "print('\\nBut favourite pizzas of my friend are: ')\n",
                "for freind_pizza in freind_pizzas:\n",
                "    print(' *' f\"{freind_pizza}\")"
            ]
        },
        {
            "cell_type": "markdown",
            "metadata": {},
            "source": [
                "4.12"
            ]
        },
        {
            "cell_type": "code",
            "execution_count": 58,
            "metadata": {},
            "outputs": [
                {
                    "name": "stdout",
                    "output_type": "stream",
                    "text": [
                        "My favourite foods are:\n",
                        "['pizza', 'falafel', 'carrot cake', 'cannoli']\n",
                        "\n",
                        "My friend's favourite foods are:\n",
                        "['pizza', 'falafel', 'carrot cake', 'cannoli']\n"
                    ]
                }
            ],
            "source": [
                "my_foods = ['pizza', 'falafel', 'carrot cake', 'cannoli']\n",
                "friend_foods = my_foods[:]\n",
                "print('My favourite foods are:')\n",
                "print (my_foods)\n",
                "print('\\nMy friend\\'s favourite foods are:')\n",
                "print(friend_foods)"
            ]
        },
        {
            "cell_type": "code",
            "execution_count": 60,
            "metadata": {},
            "outputs": [
                {
                    "name": "stdout",
                    "output_type": "stream",
                    "text": [
                        "My favourite foods are:\n",
                        " * pizza\n",
                        " * falafel\n",
                        " * carrot cake\n",
                        " * cannoli\n",
                        "\n",
                        "My friend's favourite foods are:\n",
                        " * pizza\n",
                        " * falafel\n",
                        " * carrot cake\n",
                        " * cannoli\n"
                    ]
                }
            ],
            "source": [
                "my_foods = ['pizza', 'falafel', 'carrot cake', 'cannoli']\n",
                "friend_foods = my_foods[:]\n",
                "print('My favourite foods are:')\n",
                "for food in my_foods:\n",
                "    print(\" * \" f\"{food}\")\n",
                "print('\\nMy friend\\'s favourite foods are:')\n",
                "for food in friend_foods:\n",
                "    print(\" * \" f\"{food}\")"
            ]
        },
        {
            "cell_type": "markdown",
            "metadata": {},
            "source": [
                "4.13"
            ]
        },
        {
            "cell_type": "code",
            "execution_count": 3,
            "metadata": {},
            "outputs": [
                {
                    "name": "stdout",
                    "output_type": "stream",
                    "text": [
                        "salad\n",
                        "sweet and sour chicken\n",
                        "sushi\n",
                        "ice cream\n",
                        "coffee\n"
                    ]
                }
            ],
            "source": [
                "foods = ('salad', 'sweet and sour chicken', 'sushi', 'ice cream', 'coffee')\n",
                "for food in foods:\n",
                "    print (food)"
            ]
        },
        {
            "cell_type": "code",
            "execution_count": 4,
            "metadata": {},
            "outputs": [
                {
                    "ename": "TypeError",
                    "evalue": "'str' object does not support item assignment",
                    "output_type": "error",
                    "traceback": [
                        "\u001b[1;31m---------------------------------------------------------------------------\u001b[0m",
                        "\u001b[1;31mTypeError\u001b[0m                                 Traceback (most recent call last)",
                        "\u001b[1;32m<ipython-input-4-5c2ad40ba7e0>\u001b[0m in \u001b[0;36m<module>\u001b[1;34m\u001b[0m\n\u001b[1;32m----> 1\u001b[1;33m \u001b[0mfood\u001b[0m\u001b[1;33m[\u001b[0m\u001b[1;36m1\u001b[0m\u001b[1;33m]\u001b[0m \u001b[1;33m=\u001b[0m \u001b[1;34m\"Chicken Nugget\"\u001b[0m\u001b[1;33m\u001b[0m\u001b[1;33m\u001b[0m\u001b[0m\n\u001b[0m",
                        "\u001b[1;31mTypeError\u001b[0m: 'str' object does not support item assignment"
                    ]
                }
            ],
            "source": [
                "food[1] = \"Chicken Nugget\""
            ]
        },
        {
            "cell_type": "code",
            "execution_count": 5,
            "metadata": {},
            "outputs": [
                {
                    "name": "stdout",
                    "output_type": "stream",
                    "text": [
                        "salad\n",
                        "Chicken Nuggets\n",
                        "Schnitzel\n",
                        "ice cream\n",
                        "coffee\n"
                    ]
                }
            ],
            "source": [
                "foods = ('salad', 'Chicken Nuggets', 'Schnitzel', 'ice cream', 'coffee')\n",
                "for food in foods:\n",
                "    print(food)"
            ]
        },
        {
            "cell_type": "markdown",
            "metadata": {},
            "source": [
                "5.1"
            ]
        },
        {
            "cell_type": "code",
            "execution_count": 9,
            "metadata": {},
            "outputs": [
                {
                    "name": "stdout",
                    "output_type": "stream",
                    "text": [
                        "Is house == \"old\"?  I predict True.\n",
                        "house == \"old\"\n"
                    ]
                }
            ],
            "source": [
                "house = \"old\"\n",
                "\n",
                "if house == \"old\":\n",
                "    print (\"Is house == \\\"old\\\"?  I predict True.\")\n",
                "    print (\"house == \\\"old\\\"\")\n",
                "else:\n",
                "    print (\"\\n Is house == \\\"old\\\"? I predict False.\")\n",
                "    print (\"house == \\\"old\\\"\")"
            ]
        },
        {
            "cell_type": "markdown",
            "metadata": {},
            "source": [
                "5.3"
            ]
        },
        {
            "cell_type": "code",
            "execution_count": 12,
            "metadata": {},
            "outputs": [],
            "source": [
                "alien_color = ['green', 'yellow', 'red']\n",
                "if alien_color == 'green':\n",
                "    print (\"You have just earned 5 points\")"
            ]
        },
        {
            "cell_type": "code",
            "execution_count": 13,
            "metadata": {},
            "outputs": [
                {
                    "name": "stdout",
                    "output_type": "stream",
                    "text": [
                        "You have just earned 5 points\n"
                    ]
                }
            ],
            "source": [
                "alien_color = 'green'\n",
                "if alien_color == 'green':\n",
                "    print (\"You have just earned 5 points\")"
            ]
        },
        {
            "cell_type": "markdown",
            "metadata": {},
            "source": [
                "5.4"
            ]
        },
        {
            "cell_type": "code",
            "execution_count": 14,
            "metadata": {},
            "outputs": [
                {
                    "name": "stdout",
                    "output_type": "stream",
                    "text": [
                        "You have just earned 5 points.\n"
                    ]
                }
            ],
            "source": [
                "alien_color = 'green'\n",
                "\n",
                "if alien_color == 'green':\n",
                "    print (\"You have just earned 5 points.\")"
            ]
        },
        {
            "cell_type": "code",
            "execution_count": 17,
            "metadata": {},
            "outputs": [
                {
                    "name": "stdout",
                    "output_type": "stream",
                    "text": [
                        "You have just earned 10 points.\n"
                    ]
                }
            ],
            "source": [
                "alien_color = 'red'\n",
                "\n",
                "if alien_color != 'green':\n",
                "    print (\"You have just earned 10 points.\")\n"
            ]
        },
        {
            "cell_type": "code",
            "execution_count": 18,
            "metadata": {},
            "outputs": [
                {
                    "name": "stdout",
                    "output_type": "stream",
                    "text": [
                        "You have just earned 10 points.\n"
                    ]
                }
            ],
            "source": [
                "if alien_color == 'green':\n",
                "    print (\"You have just earned 5 points.\")\n",
                "else:\n",
                "    print (\"You have just earned 10 points.\")"
            ]
        },
        {
            "cell_type": "markdown",
            "metadata": {},
            "source": [
                "5.5 "
            ]
        },
        {
            "cell_type": "code",
            "execution_count": 21,
            "metadata": {},
            "outputs": [
                {
                    "name": "stdout",
                    "output_type": "stream",
                    "text": [
                        "You have just earned 5 points.\n"
                    ]
                }
            ],
            "source": [
                "alien_color = 'green'\n",
                "\n",
                "if alien_color == 'green':\n",
                "    print (\"You have just earned 5 points.\")\n",
                "elif alien_color == 'yellow':\n",
                "    print (\"You have just earned 10 points.\")\n",
                "elif alien_color == 'red':\n",
                "    print (\"You have just earned 15 points.\")\n"
            ]
        },
        {
            "cell_type": "code",
            "execution_count": 23,
            "metadata": {},
            "outputs": [
                {
                    "name": "stdout",
                    "output_type": "stream",
                    "text": [
                        "You have just earned 10 points.\n"
                    ]
                }
            ],
            "source": [
                "alien_color = 'yellow'\n",
                "\n",
                "if alien_color == 'green':\n",
                "    print (\"You have just earned 5 points.\")\n",
                "elif alien_color == 'yellow':\n",
                "    print (\"You have just earned 10 points.\")\n",
                "elif alien_color == 'red':\n",
                "    print (\"You have just earned 15 points.\")\n"
            ]
        },
        {
            "cell_type": "code",
            "execution_count": 24,
            "metadata": {},
            "outputs": [
                {
                    "name": "stdout",
                    "output_type": "stream",
                    "text": [
                        "You have just earned 15 points.\n"
                    ]
                }
            ],
            "source": [
                "alien_color = 'red'\n",
                "\n",
                "if alien_color == 'green':\n",
                "    print (\"You have just earned 5 points.\")\n",
                "elif alien_color == 'yellow':\n",
                "    print (\"You have just earned 10 points.\")\n",
                "elif alien_color == 'red':\n",
                "    print (\"You have just earned 15 points.\")\n"
            ]
        },
        {
            "cell_type": "markdown",
            "metadata": {},
            "source": [
                "5.6 "
            ]
        },
        {
            "cell_type": "code",
            "execution_count": 28,
            "metadata": {},
            "outputs": [
                {
                    "name": "stdout",
                    "output_type": "stream",
                    "text": [
                        "How old are you?\n",
                        "You are an adult.\n"
                    ]
                }
            ],
            "source": [
                "print (\"How old are you?\")\n",
                "age = int (input())\n",
                "\n",
                "if age < 2:\n",
                "    print (\"You are a baby.\")\n",
                "elif age >= 2 and age < 4:\n",
                "    print (\"You are a toddler.\")\n",
                "elif age >=4 and age < 13:\n",
                "    print (\"You are a kid.\")\n",
                "elif age >= 13 and age <20:\n",
                "    print (\"You are a teenager.\")\n",
                "elif age >=20 and age < 65:\n",
                "    print (\"You are an adult.\")\n",
                "else:\n",
                "    print (\"You are an elder. \")\n",
                "\n"
            ]
        },
        {
            "cell_type": "markdown",
            "metadata": {},
            "source": [
                "5.7 "
            ]
        },
        {
            "cell_type": "code",
            "execution_count": 27,
            "metadata": {},
            "outputs": [
                {
                    "name": "stdout",
                    "output_type": "stream",
                    "text": [
                        "You really like water melon!\n",
                        "You really like persimmon!\n",
                        "You really like apple!\n"
                    ]
                }
            ],
            "source": [
                "favourite_fruits = ['water melon', 'persimmon', 'apple']\n",
                "\n",
                "for fruit in favourite_fruits:\n",
                "    if fruit == 'water melon':\n",
                "        print (\"You really like \" f\"{fruit}\" \"!\")\n",
                "    if fruit == 'persimmon':\n",
                "        print (\"You really like \" f\"{fruit}\" \"!\")\n",
                "    if fruit == 'apple':\n",
                "        print (\"You really like \" f\"{fruit}\" \"!\")\n",
                "    if fruit == 'orange':\n",
                "        print (\"You really like \" f\"{fruit}\" \"!\")\n",
                "    if fruit == 'blueberry':\n",
                "        print (\"You really like \" f\"{fruit}\" \"!\")"
            ]
        },
        {
            "cell_type": "markdown",
            "metadata": {},
            "source": [
                "5.8"
            ]
        },
        {
            "cell_type": "code",
            "execution_count": 3,
            "metadata": {},
            "outputs": [
                {
                    "name": "stdout",
                    "output_type": "stream",
                    "text": [
                        "Hello, jchoi7, thank you for loggin in again\n",
                        "Hello, A205777, thank you for loggin in again\n",
                        "Hello admin, would you like to see a status report?\n",
                        "Hello, viperXH, thank you for loggin in again\n",
                        "Hello, pokemon_go, thank you for loggin in again\n"
                    ]
                }
            ],
            "source": [
                "usernames = ['jchoi7', 'A205777', 'admin', 'viperXH', 'pokemon_go']\n",
                "\n",
                "for username in usernames:\n",
                "    if username == 'admin':\n",
                "       print (\"Hello admin, would you like to see a status report?\") \n",
                "    else:\n",
                "       print (\"Hello, \" f\"{username}\" \", thank you for loggin in again\") "
            ]
        },
        {
            "cell_type": "markdown",
            "metadata": {},
            "source": [
                "5.9 Checking that a List is Not Empty. "
            ]
        },
        {
            "cell_type": "code",
            "execution_count": 9,
            "metadata": {},
            "outputs": [
                {
                    "name": "stdout",
                    "output_type": "stream",
                    "text": [
                        "We need to find some users!\n"
                    ]
                }
            ],
            "source": [
                "usernames = []\n",
                "\n",
                "if usernames:\n",
                "    for username in usernames:\n",
                "        print (\"Not empty\")\n",
                "else:\n",
                "    print(\"We need to find some users!\")"
            ]
        },
        {
            "cell_type": "markdown",
            "metadata": {},
            "source": [
                "5.10"
            ]
        },
        {
            "cell_type": "code",
            "execution_count": 2,
            "metadata": {},
            "outputs": [
                {
                    "name": "stdout",
                    "output_type": "stream",
                    "text": [
                        "Sorry jchoi7, please enter a new name.\n",
                        "Sorry admin, please enter a new name.\n",
                        "Great, a205777 is still available.\n",
                        "Sorry viper-XH, please enter a new name.\n",
                        "Great, zh_see is still available.\n"
                    ]
                }
            ],
            "source": [
                "current_users = ['jchoi7', 'A205777', 'viper-XH', 'pokemon_go', 'admin']\n",
                "new_users = ['jchoi7', 'admin', 'a205777', 'viper-XH', 'zh_see']\n",
                "\n",
                "for new_user in new_users:\n",
                "    if new_user in current_users:\n",
                "        print(f\"Sorry {new_user}, please enter a new name.\")\n",
                "    else:\n",
                "        print(f\"Great, {new_user} is still available.\")"
            ]
        },
        {
            "cell_type": "markdown",
            "metadata": {},
            "source": [
                "5.11"
            ]
        },
        {
            "cell_type": "code",
            "execution_count": 6,
            "metadata": {},
            "outputs": [
                {
                    "name": "stdout",
                    "output_type": "stream",
                    "text": [
                        "1st\n",
                        "2nd\n",
                        "3rd\n",
                        "4th\n",
                        "5th\n",
                        "6th\n",
                        "7th\n",
                        "8th\n",
                        "9th\n"
                    ]
                }
            ],
            "source": [
                "oridnal_numbers = list(range(1,10))\n",
                "\n",
                "for ordinal_number in oridnal_numbers:\n",
                "    if ordinal_number == 1:\n",
                "        print (\"1st\")\n",
                "    elif ordinal_number == 2:\n",
                "        print (\"2nd\")\n",
                "    elif ordinal_number == 3:\n",
                "        print (\"3rd\")\n",
                "    else: \n",
                "        print (f\"{ordinal_number}th\")"
            ]
        },
        {
            "cell_type": "markdown",
            "metadata": {},
            "source": []
        },
        {
            "cell_type": "markdown",
            "metadata": {},
            "source": [
                "6.1"
            ]
        },
        {
            "cell_type": "code",
            "execution_count": 7,
            "metadata": {},
            "outputs": [
                {
                    "name": "stdout",
                    "output_type": "stream",
                    "text": [
                        "Jenny\n",
                        "Kim\n",
                        "43\n",
                        "Zurich\n"
                    ]
                }
            ],
            "source": [
                "person = {'first name': 'Jenny', 'last name': 'Kim', 'age': '43', 'city': 'Zurich'}\n",
                "print(person['first name'])\n",
                "print(person['last name'])\n",
                "print(person['age'])\n",
                "print(person['city'])"
            ]
        },
        {
            "cell_type": "markdown",
            "metadata": {},
            "source": []
        },
        {
            "cell_type": "markdown",
            "metadata": {},
            "source": [
                "6.2"
            ]
        },
        {
            "cell_type": "code",
            "execution_count": 9,
            "metadata": {},
            "outputs": [
                {
                    "name": "stdout",
                    "output_type": "stream",
                    "text": [
                        "3\n"
                    ]
                }
            ],
            "source": [
                "favourite_numbers = {'Jenny': '3', 'Sophie': '5', 'Dana': '7', 'Ange': '9', 'Justina': '2'}\n",
                "print(favourite_numbers['Jenny'])"
            ]
        },
        {
            "cell_type": "code",
            "execution_count": 10,
            "metadata": {},
            "outputs": [
                {
                    "name": "stdout",
                    "output_type": "stream",
                    "text": [
                        "Jenny's favorite number is 3\n"
                    ]
                }
            ],
            "source": [
                "num = favourite_numbers['Jenny']\n",
                "print(f\"Jenny's favorite number is {num}\")"
            ]
        },
        {
            "cell_type": "markdown",
            "metadata": {},
            "source": [
                "6.3"
            ]
        },
        {
            "cell_type": "code",
            "execution_count": 11,
            "metadata": {},
            "outputs": [
                {
                    "name": "stdout",
                    "output_type": "stream",
                    "text": [
                        "\n",
                        "String: A series of characters.\n",
                        "\n",
                        "Comment: A note in a program that the Python interpreter ignores.\n",
                        "\n",
                        "List: A collection of items in a particular order.\n",
                        "\n",
                        "Loop: Work through a collection of items, one at a time.\n",
                        "\n",
                        "Dictionary: A collection of key-value pairs.\n"
                    ]
                }
            ],
            "source": [
                "glossary = {\n",
                "    'string': 'A series of characters.',\n",
                "    'comment': 'A note in a program that the Python interpreter ignores.',\n",
                "    'list': 'A collection of items in a particular order.',\n",
                "    'loop': 'Work through a collection of items, one at a time.',\n",
                "    'dictionary': \"A collection of key-value pairs.\",\n",
                "    }\n",
                "\n",
                "word = 'string'\n",
                "print(f\"\\n{word.title()}: {glossary[word]}\")\n",
                "\n",
                "word = 'comment'\n",
                "print(f\"\\n{word.title()}: {glossary[word]}\")\n",
                "\n",
                "word = 'list'\n",
                "print(f\"\\n{word.title()}: {glossary[word]}\")\n",
                "\n",
                "word = 'loop'\n",
                "print(f\"\\n{word.title()}: {glossary[word]}\")\n",
                "\n",
                "word = 'dictionary'\n",
                "print(f\"\\n{word.title()}: {glossary[word]}\")"
            ]
        },
        {
            "cell_type": "code",
            "execution_count": 16,
            "metadata": {},
            "outputs": [
                {
                    "name": "stdout",
                    "output_type": "stream",
                    "text": [
                        "Hi, Jen\n",
                        "Hi, Sarah\n",
                        "\tSarah, I see you love C.\n",
                        "Hi, Edward\n",
                        "Hi, Phil\n",
                        "\tPhil, I see you love Python.\n"
                    ]
                }
            ],
            "source": [
                "favourite_languages = {'jen': 'python', 'sarah': 'c', 'edward': 'ruby', 'phil': 'python'}\n",
                "\n",
                "friends = ['phil', 'sarah']\n",
                "for name in favourite_languages.keys():\n",
                "    print(f\"Hi, {name.title()}\")\n",
                "\n",
                "    if name in friends:\n",
                "        language = favourite_languages[name].title()\n",
                "        print(f\"\\t{name.title()}, I see you love {language}.\")"
            ]
        },
        {
            "cell_type": "code",
            "execution_count": 17,
            "metadata": {},
            "outputs": [
                {
                    "name": "stdout",
                    "output_type": "stream",
                    "text": [
                        "Erin, please take our poll!\n"
                    ]
                }
            ],
            "source": [
                "if 'erin' not in favourite_languages.keys():\n",
                "        print(\"Erin, please take our poll!\")"
            ]
        },
        {
            "cell_type": "markdown",
            "metadata": {},
            "source": [
                "6.4"
            ]
        },
        {
            "cell_type": "code",
            "execution_count": 20,
            "metadata": {},
            "outputs": [
                {
                    "name": "stdout",
                    "output_type": "stream",
                    "text": [
                        "\n",
                        "String: A series of characters.\n",
                        "\n",
                        "Comment: A note in a program that the Python interpreter ignores.\n",
                        "\n",
                        "List: A collection of items in a particular order.\n",
                        "\n",
                        "Loop: Work through a collection of items, one at a time.\n",
                        "\n",
                        "Dictionary: A collection of key-value pairs.\n"
                    ]
                }
            ],
            "source": [
                "glossary = {\n",
                "    'string': 'A series of characters.',\n",
                "    'comment': 'A note in a program that the Python interpreter ignores.',\n",
                "    'list': 'A collection of items in a particular order.',\n",
                "    'loop': 'Work through a collection of items, one at a time.',\n",
                "    'dictionary': \"A collection of key-value pairs.\",\n",
                "    }\n",
                "\n",
                "for key, value in glossary.items():\n",
                "    print(f\"\\n{key.title()}: {value}\")"
            ]
        },
        {
            "cell_type": "code",
            "execution_count": 21,
            "metadata": {},
            "outputs": [
                {
                    "name": "stdout",
                    "output_type": "stream",
                    "text": [
                        "\n",
                        "String: A series of characters.\n",
                        "\n",
                        "Comment: A note in a program that the Python interpreter ignores.\n",
                        "\n",
                        "List: A collection of items in a particular order.\n",
                        "\n",
                        "Loop: Work through a collection of items, one at a time.\n",
                        "\n",
                        "Dictionary: A collection of key-value pairs.\n",
                        "\n",
                        "Java: Used for GUI.\n",
                        "\n",
                        "C++: Not easy to learn.\n",
                        "\n",
                        "Ruby: Not sure what this is.\n",
                        "\n",
                        "Scratch: Nathan loves this.\n",
                        "\n",
                        "Python: It's used by data scientists.\n"
                    ]
                }
            ],
            "source": [
                "glossary = {\n",
                "    'string': 'A series of characters.',\n",
                "    'comment': 'A note in a program that the Python interpreter ignores.',\n",
                "    'list': 'A collection of items in a particular order.',\n",
                "    'loop': 'Work through a collection of items, one at a time.',\n",
                "    'dictionary': \"A collection of key-value pairs.\",\n",
                "    'java': 'Used for GUI.',\n",
                "    'c++': 'Not easy to learn.',\n",
                "    'ruby': 'Not sure what this is.',\n",
                "    'scratch': 'Nathan loves this.',  \n",
                "    'python' : 'It\\'s used by data scientists.'  \n",
                "    }\n",
                "\n",
                "for key, value in glossary.items():\n",
                "    print(f\"\\n{key.title()}: {value}\")"
            ]
        },
        {
            "cell_type": "markdown",
            "metadata": {},
            "source": [
                "6.5"
            ]
        },
        {
            "cell_type": "code",
            "execution_count": 24,
            "metadata": {},
            "outputs": [
                {
                    "name": "stdout",
                    "output_type": "stream",
                    "text": [
                        "The Nile runs through Egypt.\n",
                        "The Donau runs through Austria.\n",
                        "The Han runs through Sourth Korea.\n"
                    ]
                }
            ],
            "source": [
                "major_rivers = {'nile': 'egypt', 'donau': 'austria', 'han': 'sourth korea'}\n",
                "for key, value in major_rivers.items():\n",
                "    print (f\"The {key.title()} runs through {value.title()}.\")\n",
                "\n"
            ]
        },
        {
            "cell_type": "code",
            "execution_count": 29,
            "metadata": {},
            "outputs": [
                {
                    "name": "stdout",
                    "output_type": "stream",
                    "text": [
                        "\n",
                        "Nile\n",
                        "\n",
                        "Donau\n",
                        "\n",
                        "Han\n"
                    ]
                }
            ],
            "source": [
                "for key in major_rivers:\n",
                "    print (f\"\\n{key.title()}\")"
            ]
        },
        {
            "cell_type": "code",
            "execution_count": 30,
            "metadata": {},
            "outputs": [
                {
                    "name": "stdout",
                    "output_type": "stream",
                    "text": [
                        "\n",
                        "Egypt\n",
                        "\n",
                        "Austria\n",
                        "\n",
                        "Sourth Korea\n"
                    ]
                }
            ],
            "source": [
                "for value in major_rivers.values():\n",
                "    print (f\"\\n{value.title()}\")"
            ]
        },
        {
            "cell_type": "markdown",
            "metadata": {},
            "source": [
                "6.6"
            ]
        },
        {
            "cell_type": "code",
            "execution_count": 31,
            "metadata": {},
            "outputs": [
                {
                    "name": "stdout",
                    "output_type": "stream",
                    "text": [
                        "Thank you, Jen, for taking the poll.\n",
                        "Sophie, would you like to take the poll?\n",
                        "Thank you, Edward, for taking the poll.\n",
                        "Minna, would you like to take the poll?\n",
                        "Nathan, would you like to take the poll?\n",
                        "Thank you, Sarah, for taking the poll.\n"
                    ]
                }
            ],
            "source": [
                "poll_participants = ['jen', 'sophie', 'edward', 'minna', 'nathan', 'sarah']\n",
                "favourite_languages = {'jen': 'python', 'sarah': 'c', 'edward': 'ruby', 'phil': 'python'}\n",
                "\n",
                "for participant in poll_participants:\n",
                "    if participant in favourite_languages.keys():\n",
                "        print (f\"Thank you, {participant.title()}, for taking the poll.\")\n",
                "    else:\n",
                "        print (f\"{participant.title()}, would you like to take the poll?\")\n",
                "\n",
                "\n"
            ]
        },
        {
            "cell_type": "markdown",
            "metadata": {},
            "source": [
                "6.7"
            ]
        },
        {
            "cell_type": "code",
            "execution_count": 10,
            "metadata": {},
            "outputs": [
                {
                    "name": "stdout",
                    "output_type": "stream",
                    "text": [
                        "{'first_name': 'sophie', 'last_name': 'damman', 'age': '46', 'city': 'zurich'}\n",
                        "{'first_name': 'charlotte', 'last_name': 'gair', 'age': '42', 'city': 'wellington'}\n",
                        "{'first_name': 'hae kyung', 'last_name': 'lee', 'age': '50', 'city': 'london'}\n"
                    ]
                }
            ],
            "source": [
                "persons_1 = {'first_name':'sophie', 'last_name':'damman', 'age':'46', 'city':'zurich'}\n",
                "\n",
                "persons_2 ={'first_name':'charlotte', 'last_name':'gair', 'age':'42', 'city':'wellington'}\n",
                "\n",
                "persons_3={'first_name':'hae kyung', 'last_name':'lee', 'age':'50', 'city':'london'}\n",
                "\n",
                "persons =[persons_1, persons_2, persons_3]\n",
                "\n",
                "for person in persons:\n",
                "    print(person)"
            ]
        },
        {
            "cell_type": "code",
            "execution_count": 12,
            "metadata": {},
            "outputs": [
                {
                    "name": "stdout",
                    "output_type": "stream",
                    "text": [
                        "{'first_name': 'sophie', 'last_name': 'damman', 'age': '46', 'city': 'zurich'}\n",
                        "{'first_name': 'charlotte', 'last_name': 'gair', 'age': '42', 'city': 'wellington'}\n",
                        "{'first_name': 'hae kyung', 'last_name': 'lee', 'age': '50', 'city': 'london'}\n",
                        "{'first_name': 'ange', 'last_name': 'huber', 'age': '30', 'city': 'ratz'}\n",
                        "{'first_name': 'ange', 'last_name': 'huber', 'age': '30', 'city': 'ratz'}\n"
                    ]
                }
            ],
            "source": [
                "persons_4={'first_name':'ange', 'last_name':'huber', 'age':'30', 'city':'ratz'}\n",
                "persons_5={'first_name':'joo young', 'last_name':'hwang', 'age':'35', 'city':'hampshire'}\n",
                "persons.append(persons_4)\n",
                "for person in persons:\n",
                "    print(person)"
            ]
        },
        {
            "cell_type": "code",
            "execution_count": 20,
            "metadata": {},
            "outputs": [
                {
                    "name": "stdout",
                    "output_type": "stream",
                    "text": [
                        "Sophie Damman, 46, Zurich\n",
                        "Charlotte Gair, 42, Wellington\n",
                        "Hae Kyung Lee, 50, London\n"
                    ]
                }
            ],
            "source": [
                "for person in persons:\n",
                "    name = f\"{person['first_name'].title()} {person['last_name'].title()}\"\n",
                "    age = person['age']\n",
                "    city = person['city'].title()\n",
                "    print(f\"{name}, {age}, {city}\")"
            ]
        },
        {
            "cell_type": "markdown",
            "metadata": {},
            "source": [
                "Alternative Solution"
            ]
        },
        {
            "cell_type": "code",
            "execution_count": 14,
            "metadata": {},
            "outputs": [],
            "source": [
                "persons = []\n",
                "persons_1 = {'first_name':'sophie', 'last_name':'damman', 'age':'46', 'city':'zurich'}\n",
                "persons.append(persons_1)\n",
                "persons_2 ={'first_name':'charlotte', 'last_name':'gair', 'age':'42', 'city':'wellington'}\n",
                "persons.append(persons_2)\n",
                "persons_3={'first_name':'hae kyung', 'last_name':'lee', 'age':'50', 'city':'london'}\n",
                "persons.append(persons_3)"
            ]
        },
        {
            "cell_type": "markdown",
            "metadata": {},
            "source": []
        },
        {
            "cell_type": "markdown",
            "metadata": {},
            "source": [
                "6.8"
            ]
        },
        {
            "cell_type": "code",
            "execution_count": 34,
            "metadata": {},
            "outputs": [
                {
                    "name": "stdout",
                    "output_type": "stream",
                    "text": [
                        "[{'pet_type': 'puddle', 'owner': 'kate'}, {'pet_type': 'bulldog', 'owner': 'sandhya'}, {'pet_type': 'meercat', 'owner': 'jin'}, {'pet_type': 'siyamese', 'owner': 'julie'}, {'pet_type': 'parrot', 'owner': 'data'}, {'pet_type': 'canary', 'owner': 'ashley'}]\n"
                    ]
                }
            ],
            "source": [
                "pets = []\n",
                "dog_1 = {'pet_type': 'puddle', 'owner': 'kate'}\n",
                "pets.append(dog_1)\n",
                "dog_2 = {'pet_type': 'bulldog', 'owner': 'sandhya'}\n",
                "pets.append(dog_2)\n",
                "\n",
                "cat_1 = {'pet_type': 'meercat', 'owner': 'jin'}\n",
                "pets.append(cat_1)\n",
                "cat_2 = {'pet_type': 'siyamese', 'owner': 'julie'}\n",
                "pets.append(cat_2)\n",
                "\n",
                "bird_1 = {'pet_type': 'parrot', 'owner': 'data'}\n",
                "pets.append(bird_1)\n",
                "bird_2 = {'pet_type': 'canary', 'owner': 'ashley'}\n",
                "pets.append(bird_2)\n",
                "\n",
                "print(pets)\n",
                "\n"
            ]
        },
        {
            "cell_type": "code",
            "execution_count": 35,
            "metadata": {},
            "outputs": [
                {
                    "name": "stdout",
                    "output_type": "stream",
                    "text": [
                        "{'pet_type': 'puddle', 'owner': 'kate'}\n",
                        "{'pet_type': 'bulldog', 'owner': 'sandhya'}\n",
                        "{'pet_type': 'meercat', 'owner': 'jin'}\n",
                        "{'pet_type': 'siyamese', 'owner': 'julie'}\n",
                        "{'pet_type': 'parrot', 'owner': 'data'}\n",
                        "{'pet_type': 'canary', 'owner': 'ashley'}\n"
                    ]
                }
            ],
            "source": [
                "for pet in pets:\n",
                "    print(pet)"
            ]
        },
        {
            "cell_type": "code",
            "execution_count": 38,
            "metadata": {},
            "outputs": [
                {
                    "name": "stdout",
                    "output_type": "stream",
                    "text": [
                        "Kate has a puddle.\n",
                        "Sandhya has a bulldog.\n",
                        "Jin has a meercat.\n",
                        "Julie has a siyamese.\n",
                        "Data has a parrot.\n",
                        "Ashley has a canary.\n"
                    ]
                }
            ],
            "source": [
                "for pet in pets:\n",
                "    pet_type = pet['pet_type']\n",
                "    owner = pet['owner'].title()\n",
                "    print(f\"{owner} has a {pet_type}.\")"
            ]
        },
        {
            "cell_type": "markdown",
            "metadata": {},
            "source": [
                "Alternative solution"
            ]
        },
        {
            "cell_type": "code",
            "execution_count": 39,
            "metadata": {},
            "outputs": [
                {
                    "name": "stdout",
                    "output_type": "stream",
                    "text": [
                        "[{'animal type': 'python', 'name': 'john', 'owner': 'guido', 'weight': 43, 'eats': 'bugs'}, {'animal type': 'chicken', 'name': 'clarence', 'owner': 'tiffany', 'weight': 2, 'eats': 'seeds'}, {'animal type': 'dog', 'name': 'peso', 'owner': 'eric', 'weight': 37, 'eats': 'shoes'}]\n"
                    ]
                }
            ],
            "source": [
                "pets = []\n",
                "\n",
                "pet = {\n",
                "    'animal type': 'python',\n",
                "    'name': 'john',\n",
                "    'owner': 'guido',\n",
                "    'weight': 43,\n",
                "    'eats': 'bugs',\n",
                "}\n",
                "pets.append(pet)\n",
                "\n",
                "pet = {\n",
                "    'animal type': 'chicken',\n",
                "    'name': 'clarence',\n",
                "    'owner': 'tiffany',\n",
                "    'weight': 2,\n",
                "    'eats': 'seeds',\n",
                "}\n",
                "pets.append(pet)\n",
                "\n",
                "pet = {\n",
                "    'animal type': 'dog',\n",
                "    'name': 'peso',\n",
                "    'owner': 'eric',\n",
                "    'weight': 37,\n",
                "    'eats': 'shoes',\n",
                "}\n",
                "pets.append(pet)\n",
                "print(pets)"
            ]
        },
        {
            "cell_type": "code",
            "execution_count": 43,
            "metadata": {},
            "outputs": [
                {
                    "name": "stdout",
                    "output_type": "stream",
                    "text": [
                        "\n",
                        "Here is what I know about John:\n",
                        "\tanimal type:python\n",
                        "\tname:john\n",
                        "\towner:guido\n",
                        "\tweight:43\n",
                        "\teats:bugs\n",
                        "\n",
                        "Here is what I know about Clarence:\n",
                        "\tanimal type:chicken\n",
                        "\tname:clarence\n",
                        "\towner:tiffany\n",
                        "\tweight:2\n",
                        "\teats:seeds\n",
                        "\n",
                        "Here is what I know about Peso:\n",
                        "\tanimal type:dog\n",
                        "\tname:peso\n",
                        "\towner:eric\n",
                        "\tweight:37\n",
                        "\teats:shoes\n"
                    ]
                }
            ],
            "source": [
                "for pet in pets:\n",
                "    print(f\"\\nHere is what I know about {pet['name'].title()}:\")\n",
                "    for key, value in pet.items():\n",
                "        print(f\"\\t{key}:{value}\")"
            ]
        },
        {
            "cell_type": "markdown",
            "metadata": {},
            "source": [
                "6.9"
            ]
        },
        {
            "cell_type": "code",
            "execution_count": 6,
            "metadata": {},
            "outputs": [
                {
                    "name": "stdout",
                    "output_type": "stream",
                    "text": [
                        "\n",
                        "Celia's favourite places are:\n",
                        "- Malaysia\n",
                        "- UK\n",
                        "- Singapore\n",
                        "\n",
                        "Sam's favourite places are:\n",
                        "- US\n",
                        "- Singapore\n",
                        "\n",
                        "Assamat's favourite places are:\n",
                        "- Swiss\n",
                        "- Russia\n"
                    ]
                }
            ],
            "source": [
                "favourite_places = {'Celia':['Malaysia', 'UK', 'Singapore'],\n",
                "                    'Sam':['US', 'Singapore'],\n",
                "                    'Assamat':['Swiss', 'Russia']}\n",
                "\n",
                "for name, places in favourite_places.items(): # returns a view object that displays a list of dictionary's (key, value) tuple pairs.\n",
                "    print(f\"\\n{name}\\'s favourite places are:\")\n",
                "    for place in places:\n",
                "        print(f\"- {place}\")"
            ]
        },
        {
            "cell_type": "markdown",
            "metadata": {},
            "source": [
                "6.10"
            ]
        },
        {
            "cell_type": "code",
            "execution_count": 8,
            "metadata": {},
            "outputs": [
                {
                    "name": "stdout",
                    "output_type": "stream",
                    "text": [
                        "\n",
                        "Katie's favourite numbers are:\n",
                        "- 1\n",
                        "- 3\n",
                        "- 5\n",
                        "\n",
                        "Charlotte's favourite numbers are:\n",
                        "- 0\n",
                        "- 7\n",
                        "- 9\n",
                        "\n",
                        "Sandhya's favourite numbers are:\n",
                        "- 1\n",
                        "- 2\n",
                        "- 7\n",
                        "\n",
                        "Bonnie's favourite numbers are:\n",
                        "- 3\n",
                        "- 7\n",
                        "- 8\n"
                    ]
                }
            ],
            "source": [
                "favourite_numbers = {'katie':[1, 3, 5],\n",
                "                     'charlotte':[0,7,9],\n",
                "                     'sandhya':[1,2,7],\n",
                "                     'bonnie':[3,7,8]}\n",
                "\n",
                "for name, numbers in favourite_numbers.items():\n",
                "    print(f\"\\n{name.title()}\\'s favourite numbers are:\")\n",
                "    for number in numbers:\n",
                "        print(f\"- {number}\")"
            ]
        },
        {
            "cell_type": "markdown",
            "metadata": {},
            "source": [
                "6.11"
            ]
        },
        {
            "cell_type": "code",
            "execution_count": 14,
            "metadata": {},
            "outputs": [
                {
                    "name": "stdout",
                    "output_type": "stream",
                    "text": [
                        "\n",
                        "Auckland is in New Zealand.\n",
                        " It has a population of about 1.7m.\n",
                        " It has beautiful nature.\n",
                        "\n",
                        "Zurich is in Switzerland.\n",
                        " It has a population of about 0.5m.\n",
                        " It has low tax.\n",
                        "\n",
                        "London is in United Kingdom.\n",
                        " It has a population of about 9m.\n",
                        " It has a large banking center.\n"
                    ]
                }
            ],
            "source": [
                "cities = {'Auckland':\n",
                "            {'country':'new zealand', \n",
                "             'population':'1.7m', \n",
                "             'facts':'beautiful nature'},\n",
                "          'Zurich': \n",
                "            {'country':'switzerland', \n",
                "             'population':'0.5m', \n",
                "             'facts':'low tax'},\n",
                "          'London':\n",
                "            {'country':'united kingdom', \n",
                "             'population':'9m', \n",
                "             'facts':'a large banking center'}\n",
                "           }\n",
                "\n",
                "for city, city_info in cities.items():\n",
                "    country = city_info['country'].title() \n",
                "    population = city_info['population']\n",
                "    facts = city_info['facts']\n",
                "\n",
                "    print(f\"\\n{city.title()} is in {country}.\")\n",
                "    print(f\" It has a population of about {population}.\")\n",
                "    print(f\" It has {facts}.\")"
            ]
        },
        {
            "cell_type": "markdown",
            "metadata": {},
            "source": [
                "7.1 Rental Car"
            ]
        },
        {
            "cell_type": "code",
            "execution_count": 3,
            "metadata": {},
            "outputs": [
                {
                    "name": "stdout",
                    "output_type": "stream",
                    "text": [
                        "Let me see if I can find Polo.\n"
                    ]
                }
            ],
            "source": [
                "car = input ('What kind of car would you like to rent?')\n",
                "print(f\"Let me see if I can find {car.title()}.\")"
            ]
        },
        {
            "cell_type": "markdown",
            "metadata": {},
            "source": [
                "7.2 Restaurant Seating"
            ]
        },
        {
            "cell_type": "code",
            "execution_count": 4,
            "metadata": {},
            "outputs": [
                {
                    "name": "stdout",
                    "output_type": "stream",
                    "text": [
                        "Please wait until we can find a free table for you.\n"
                    ]
                }
            ],
            "source": [
                "number = int(input('How many people do you have?'))\n",
                "\n",
                "if number > 8:\n",
                "    print('Please wait until we can find a free table for you.')\n",
                "else:\n",
                "    print('Please follow me to be seated.')"
            ]
        },
        {
            "cell_type": "markdown",
            "metadata": {},
            "source": [
                "7.3 Multiples of Ten"
            ]
        },
        {
            "cell_type": "code",
            "execution_count": 21,
            "metadata": {},
            "outputs": [
                {
                    "name": "stdout",
                    "output_type": "stream",
                    "text": [
                        "Your number is a multiple of 10!\n"
                    ]
                }
            ],
            "source": [
                "Ten = int(input('Can you give me any number?'))\n",
                "if Ten%10==0:\n",
                "    print('Your number is a multiple of 10!')\n",
                "else:\n",
                "    print(f\"Your number is {Ten}\")"
            ]
        },
        {
            "cell_type": "markdown",
            "metadata": {},
            "source": [
                "7.4 Pizza Toppings"
            ]
        },
        {
            "cell_type": "code",
            "execution_count": 3,
            "metadata": {},
            "outputs": [
                {
                    "name": "stdout",
                    "output_type": "stream",
                    "text": [
                        "I will add pinapple to your pizza.\n",
                        "I will add peach to your pizza.\n",
                        "I will add bacon to your pizza.\n"
                    ]
                }
            ],
            "source": [
                "prompt = 'What topping would you like?'\n",
                "prompt += \"\\n(Enter 'quit' when you are finished.)\"\n",
                "\n",
                "while True:\n",
                "    topping = input(prompt)\n",
                "\n",
                "    if topping == 'quit':\n",
                "        break\n",
                "    else:\n",
                "        print (f\"I will add {topping} to your pizza.\")"
            ]
        },
        {
            "cell_type": "markdown",
            "metadata": {},
            "source": []
        },
        {
            "cell_type": "markdown",
            "metadata": {},
            "source": [
                "7.5 Movie Tickets"
            ]
        },
        {
            "cell_type": "code",
            "execution_count": 10,
            "metadata": {},
            "outputs": [
                {
                    "name": "stdout",
                    "output_type": "stream",
                    "text": [
                        "The ticket is $15\n",
                        "The ticket is $15\n",
                        "The ticket is $10\n",
                        "The ticket is $10\n",
                        "The ticket is free\n"
                    ]
                }
            ],
            "source": [
                "prompt = \"How old are you?\"\n",
                "prompt += \"\\nEnter 'quit' when you are finished.\"\n",
                "\n",
                "while True:\n",
                "    age = input(prompt)\n",
                "\n",
                "    if age =='quit':\n",
                "        break\n",
                "\n",
                "    else:\n",
                "        age = int(age)\n",
                "        if age < 3:\n",
                "            print('The ticket is free')\n",
                "        elif age <13:\n",
                "            print ('The ticket is $10')\n",
                "        else:\n",
                "            print('The ticket is $15')"
            ]
        },
        {
            "cell_type": "markdown",
            "metadata": {},
            "source": [
                "7.6 Three Exits"
            ]
        },
        {
            "cell_type": "code",
            "execution_count": 8,
            "metadata": {},
            "outputs": [
                {
                    "name": "stdout",
                    "output_type": "stream",
                    "text": [
                        "I will add mozarella to your pizza.\n",
                        "I will add tomato to your pizza.\n"
                    ]
                }
            ],
            "source": [
                "prompt = \"What kind of topping would you like?\"\n",
                "prompt += \"\\nPlease enter 'quit' when you are finished.\"\n",
                "\n",
                "while True:\n",
                "    topping = input(prompt)\n",
                "\n",
                "    if topping == \"quit\":\n",
                "        break\n",
                "    else:\n",
                "        print (f\"I will add {topping} to your pizza.\")"
            ]
        },
        {
            "cell_type": "markdown",
            "metadata": {},
            "source": [
                "7.8 Deli"
            ]
        },
        {
            "cell_type": "code",
            "execution_count": 14,
            "metadata": {},
            "outputs": [
                {
                    "name": "stdout",
                    "output_type": "stream",
                    "text": [
                        "I've made BLT sandwich.\n",
                        "I've made ham sandwich.\n",
                        "I've made egg sandwich.\n",
                        "I've made tuna sandwich.\n"
                    ]
                }
            ],
            "source": [
                "sandwich_orders = ['tuna', 'egg', 'ham', 'BLT']\n",
                "finished_sandwiches = []\n",
                "\n",
                "while sandwich_orders:\n",
                "    WIP = sandwich_orders.pop()\n",
                "    finished_sandwiches.append(WIP)\n",
                "    \n",
                "for sandwich in finished_sandwiches:\n",
                "    print (f\"I've made {sandwich} sandwich.\")"
            ]
        },
        {
            "cell_type": "markdown",
            "metadata": {},
            "source": [
                "7.9 No Pastrami"
            ]
        },
        {
            "cell_type": "code",
            "execution_count": 15,
            "metadata": {},
            "outputs": [
                {
                    "name": "stdout",
                    "output_type": "stream",
                    "text": [
                        "Have we run out of pastrami?\n",
                        "I've made BLT sandwich.\n",
                        "I've made ham sandwich.\n",
                        "I've made egg sandwich.\n",
                        "I've made tuna sandwich.\n"
                    ]
                }
            ],
            "source": [
                "sandwich_orders = ['tuna', 'pastrami', 'egg', 'pastrami', 'ham', 'pastrami', 'BLT']\n",
                "print(\"Have we run out of pastrami?\")\n",
                "\n",
                "while 'pastrami' in sandwich_orders:\n",
                "    sandwich_orders.remove('pastrami')\n",
                "\n",
                "finished_sandwiches = []\n",
                "\n",
                "while sandwich_orders:\n",
                "    WIP = sandwich_orders.pop()\n",
                "    finished_sandwiches.append(WIP)\n",
                "    \n",
                "for sandwich in finished_sandwiches:\n",
                "    print (f\"I've made {sandwich} sandwich.\")"
            ]
        },
        {
            "cell_type": "markdown",
            "metadata": {},
            "source": [
                "7.10 Dream Vacation"
            ]
        },
        {
            "cell_type": "code",
            "execution_count": 26,
            "metadata": {},
            "outputs": [
                {
                    "name": "stdout",
                    "output_type": "stream",
                    "text": [
                        "\n",
                        "'Below is the polling results:'\n",
                        "Jenny want to visit Sydeny for a vacation.\n",
                        "Chul want to visit Israel for a vacation.\n",
                        "Nathan want to visit Korea for a vacation.\n"
                    ]
                }
            ],
            "source": [
                "dream_vacations = {}\n",
                "\n",
                "polling_active = True\n",
                "\n",
                "while polling_active:\n",
                "    name = input(\"Could you tell me your name?\")\n",
                "    place = input(\"If you could visit one place in the world, where would you go?\")\n",
                "    \n",
                "    dream_vacations[name] = place\n",
                "\n",
                "    repeat = input(\"Would you want another person to participate in this poll? Please answer yes or no.\")\n",
                "    if repeat == \"no\":\n",
                "        polling_active = False\n",
                "\n",
                "print(\"\\n'Below is the polling results:'\")\n",
                "for name, place in dream_vacations.items():\n",
                "    print (f\"{name.title()} want to visit {place.title()} for a vacation.\")"
            ]
        },
        {
            "cell_type": "markdown",
            "metadata": {},
            "source": [
                "8.1 Message"
            ]
        },
        {
            "cell_type": "code",
            "execution_count": 1,
            "metadata": {},
            "outputs": [
                {
                    "name": "stdout",
                    "output_type": "stream",
                    "text": [
                        "Jenny is learnnig python functions.\n"
                    ]
                }
            ],
            "source": [
                "def display_message():\n",
                "    print(\"Jenny is learnnig python functions.\")\n",
                "\n",
                "display_message()\n"
            ]
        },
        {
            "cell_type": "markdown",
            "metadata": {},
            "source": [
                "8.2 Favourite Book"
            ]
        },
        {
            "cell_type": "code",
            "execution_count": 3,
            "metadata": {},
            "outputs": [
                {
                    "name": "stdout",
                    "output_type": "stream",
                    "text": [
                        "One of my favourte books is Last Chance Saloon.\n"
                    ]
                }
            ],
            "source": [
                "def favourite_book (title):\n",
                "    print (f\"One of my favourte books is {title.title()}.\")\n",
                "\n",
                "favourite_book(\"Last Chance Saloon\")"
            ]
        },
        {
            "cell_type": "markdown",
            "metadata": {},
            "source": [
                "8.3 T-Shirt"
            ]
        },
        {
            "cell_type": "code",
            "execution_count": 15,
            "metadata": {},
            "outputs": [
                {
                    "name": "stdout",
                    "output_type": "stream",
                    "text": [
                        "Size: S\n",
                        "\n",
                        "It will print Have a Great Day!\n"
                    ]
                }
            ],
            "source": [
                "def make_shirt(size, text):\n",
                "    print(f\"Size: {size.title()}\")\n",
                "    print(f\"\\nIt will print {text}\")\n",
                "\n",
                "make_shirt('s', 'Have a Great Day!')"
            ]
        },
        {
            "cell_type": "markdown",
            "metadata": {},
            "source": [
                "8.4 Large Shirts"
            ]
        },
        {
            "cell_type": "code",
            "execution_count": 17,
            "metadata": {},
            "outputs": [
                {
                    "name": "stdout",
                    "output_type": "stream",
                    "text": [
                        "Size: Medium\n",
                        "\n",
                        "It will print I love Python.\n"
                    ]
                }
            ],
            "source": [
                "def make_shirt(size='large', text='I love Python.'):\n",
                "    print(f\"Size: {size.title()}\")\n",
                "    print(f\"\\nIt will print {text}\")\n",
                "\n",
                "make_shirt ('medium')"
            ]
        },
        {
            "cell_type": "code",
            "execution_count": 18,
            "metadata": {},
            "outputs": [
                {
                    "name": "stdout",
                    "output_type": "stream",
                    "text": [
                        "Size: Large\n",
                        "\n",
                        "It will print I love Python.\n"
                    ]
                }
            ],
            "source": [
                "make_shirt()"
            ]
        },
        {
            "cell_type": "code",
            "execution_count": 21,
            "metadata": {},
            "outputs": [
                {
                    "name": "stdout",
                    "output_type": "stream",
                    "text": [
                        "Size: Small\n",
                        "\n",
                        "It will print Coffee is not good for the body\n"
                    ]
                }
            ],
            "source": [
                "make_shirt('small', 'Coffee is not good for the body')"
            ]
        },
        {
            "cell_type": "markdown",
            "metadata": {},
            "source": [
                "8.5 Cities"
            ]
        },
        {
            "cell_type": "code",
            "execution_count": 25,
            "metadata": {},
            "outputs": [
                {
                    "name": "stdout",
                    "output_type": "stream",
                    "text": [
                        "Pfäffikon is in Switzerland.\n",
                        "London is in United Kingdom.\n",
                        "Schaffhausen is in Switzerland.\n"
                    ]
                }
            ],
            "source": [
                "def describe_city (city_name, country = 'Switzerland'):\n",
                "    print (f\"{city_name.title()} is in {country.title()}.\")\n",
                "    \"\"\" \n",
                "    msg = f\"{city_name.title()} is in {country.title()}.\" \n",
                "    print(msg)\n",
                "    \"\"\"\n",
                "\n",
                "describe_city('Pfäffikon')\n",
                "describe_city('London', 'United Kingdom')\n",
                "describe_city('Schaffhausen')"
            ]
        },
        {
            "cell_type": "markdown",
            "metadata": {},
            "source": [
                "8.6 City Names"
            ]
        },
        {
            "cell_type": "code",
            "execution_count": 46,
            "metadata": {},
            "outputs": [
                {
                    "name": "stdout",
                    "output_type": "stream",
                    "text": [
                        "___________________________________\n",
                        "Auckland New Zealand\n",
                        "___________________________________\n",
                        "___________________________________\n",
                        "Paris France\n",
                        "___________________________________\n",
                        "___________________________________\n",
                        "New York U.S.A.\n",
                        "___________________________________\n"
                    ]
                }
            ],
            "source": [
                "def city_country(city, country):\n",
                "    return f\"{city.title()} {country.title()}\"\n",
                "\n",
                "names_print = city_country ('Auckland', 'New Zealand')\n",
                "\n",
                "print ('___________________________________')\n",
                "print(names_print)\n",
                "print ('___________________________________')\n",
                "\n",
                "\n",
                "names_print = city_country ('Paris', 'France')\n",
                "print ('___________________________________')\n",
                "print (names_print)\n",
                "print ('___________________________________')\n",
                "\n",
                "\n",
                "names_print = city_country ('New York', 'U.S.A.')\n",
                "print ('___________________________________')\n",
                "print (names_print)\n",
                "print ('___________________________________')"
            ]
        },
        {
            "cell_type": "markdown",
            "metadata": {},
            "source": [
                "8.7 Album - Option 1"
            ]
        },
        {
            "cell_type": "code",
            "execution_count": 3,
            "metadata": {},
            "outputs": [
                {
                    "name": "stdout",
                    "output_type": "stream",
                    "text": [
                        "{'Artist Name': 'Whitney Houston', 'Album Title': 'I Will Always Love You'}\n",
                        "{'Artist Name': 'Turbo', 'Album Title': 'Winter Sea'}\n",
                        "{'Artist Name': 'Creed', 'Album Title': 'Human Clay'}\n"
                    ]
                }
            ],
            "source": [
                "def make_album (name, title):\n",
                "    return {'Artist Name': f\"{name.title()}\", 'Album Title': f\"{title.title()}\"}\n",
                "\n",
                "dict = make_album ('Whitney Houston', 'I will always Love You')\n",
                "print (dict)\n",
                "\n",
                "dict = make_album ('Turbo', 'Winter Sea')\n",
                "print (dict)\n",
                "\n",
                "dict = make_album ('Creed', 'Human Clay')\n",
                "print (dict)"
            ]
        },
        {
            "cell_type": "markdown",
            "metadata": {},
            "source": [
                "8.7 Album - Option 2"
            ]
        },
        {
            "cell_type": "code",
            "execution_count": 4,
            "metadata": {},
            "outputs": [
                {
                    "name": "stdout",
                    "output_type": "stream",
                    "text": [
                        "{'Artist Name': 'Whitney Houston', 'Album Title': 'I Will Always Love You'}\n",
                        "{'Artist Name': 'Turbo', 'Album Title': 'Winter Sea'}\n",
                        "{'Artist Name': 'Creed', 'Album Title': 'Human Clay'}\n"
                    ]
                }
            ],
            "source": [
                "def make_album (name, title):\n",
                "    dict = {'Artist Name': f\"{name.title()}\", 'Album Title': f\"{title.title()}\"}\n",
                "    return dict\n",
                "\n",
                "album = make_album ('Whitney Houston', 'I will always Love You')\n",
                "print (album)\n",
                "\n",
                "album = make_album ('Turbo', 'Winter Sea')\n",
                "print (album)\n",
                "\n",
                "album = make_album ('Creed', 'Human Clay')\n",
                "print (album)"
            ]
        },
        {
            "cell_type": "markdown",
            "metadata": {},
            "source": [
                "Comparison - Below Returns only Final Values"
            ]
        },
        {
            "cell_type": "code",
            "execution_count": 15,
            "metadata": {},
            "outputs": [
                {
                    "name": "stdout",
                    "output_type": "stream",
                    "text": [
                        "{'Artist Name': 'Creed', 'Album Title': 'Human Clay'}\n"
                    ]
                }
            ],
            "source": [
                "def make_album (name, title):\n",
                "    dict = {'Artist Name': f\"{name.title()}\", 'Album Title': f\"{title.title()}\"}\n",
                "    return dict\n",
                "\n",
                "make_album ('Whitney Houston', 'I will always Love You')\n",
                "print (dict)"
            ]
        },
        {
            "cell_type": "markdown",
            "metadata": {},
            "source": [
                "Comparison - Below returns Function Details"
            ]
        },
        {
            "cell_type": "code",
            "execution_count": 13,
            "metadata": {},
            "outputs": [
                {
                    "name": "stdout",
                    "output_type": "stream",
                    "text": [
                        "<function make_album2 at 0x0000020C12E65820>\n"
                    ]
                }
            ],
            "source": [
                "def make_album2 (name, title):\n",
                "    dict2 = {'Artist Name': f\"{name.title()}\", 'Album Title': f\"{title.title()}\"}\n",
                "    return dict2\n",
                "\n",
                "make_album2 ('Whitney Houston', 'I will always Love You')\n",
                "print (make_album2)"
            ]
        },
        {
            "cell_type": "markdown",
            "metadata": {},
            "source": [
                "8.8 User Albums"
            ]
        },
        {
            "cell_type": "code",
            "execution_count": 25,
            "metadata": {},
            "outputs": [
                {
                    "name": "stdout",
                    "output_type": "stream",
                    "text": [
                        "{'Actor Name': \"Don'T Know\", 'Movie Title': 'Et'}\n"
                    ]
                }
            ],
            "source": [
                "def make_movie (actor, movie):\n",
                "    movie_dict = {'Actor Name': f\"{actor.title()}\", 'Movie Title': f\"{movie.title()}\"}\n",
                "    return movie_dict\n",
                "\n",
                "while True:\n",
                "    movie_title = input (\"What is your favorite movie? (Enter \\'q\\' if you wish to quit.)\")\n",
                "    if movie_title == 'q':\n",
                "        break\n",
                "\n",
                "    actor_name = input(\"Who is the main actor or actress in that movie? (Enter \\'q\\' if you wish to quit.)\")\n",
                "    if actor_name == 'q':\n",
                "        break\n",
                "   \n",
                "    answer = make_movie (actor_name, movie_title)\n",
                "    print(answer)"
            ]
        },
        {
            "cell_type": "markdown",
            "metadata": {},
            "source": [
                "8.9 Messages"
            ]
        },
        {
            "cell_type": "code",
            "execution_count": 28,
            "metadata": {},
            "outputs": [
                {
                    "name": "stdout",
                    "output_type": "stream",
                    "text": [
                        "['Happy New Year', 'Guten Rutsch ins neue Jahr', 'Happy Holidays', 'I wish you a good week.']\n"
                    ]
                }
            ],
            "source": [
                "text_messages = ['Happy New Year', 'Guten Rutsch ins neue Jahr', 'Happy Holidays', 'I wish you a good week.']\n",
                "\n",
                "def show_messages():\n",
                "    print (text_messages)\n",
                "\n",
                "show_messages()"
            ]
        },
        {
            "cell_type": "code",
            "execution_count": 32,
            "metadata": {},
            "outputs": [
                {
                    "name": "stdout",
                    "output_type": "stream",
                    "text": [
                        "Happy New Year\n",
                        "Guten Rutsch ins neue Jahr\n",
                        "Happy Holidays\n",
                        "I wish you a good week.\n"
                    ]
                }
            ],
            "source": [
                "def show_messages(text_messages):\n",
                "    for message in text_messages:\n",
                "        print(message)\n",
                "\n",
                "text_messages = ['Happy New Year', 'Guten Rutsch ins neue Jahr', 'Happy Holidays', 'I wish you a good week.']\n",
                "show_messages(text_messages)"
            ]
        },
        {
            "cell_type": "markdown",
            "metadata": {},
            "source": [
                "8.10 Sending Messages"
            ]
        },
        {
            "cell_type": "code",
            "execution_count": 43,
            "metadata": {},
            "outputs": [
                {
                    "name": "stdout",
                    "output_type": "stream",
                    "text": [
                        "Happy New Year\n",
                        "Guten Rutsch ins neue Jahr\n",
                        "Happy Holidays\n",
                        "I wish you a good week.\n",
                        "\n",
                        "\n",
                        "I wish you a good week.\n",
                        "Happy Holidays\n",
                        "Guten Rutsch ins neue Jahr\n",
                        "Happy New Year\n"
                    ]
                }
            ],
            "source": [
                "def show_messages(text_messages):\n",
                "    for message in text_messages:\n",
                "        print(message)\n",
                "\n",
                "text_messages = ['Happy New Year', 'Guten Rutsch ins neue Jahr', 'Happy Holidays', 'I wish you a good week.']\n",
                "show_messages(text_messages)\n",
                "\n",
                "sent_messages = []\n",
                "\n",
                "def send_messages(text_messages, sent_messages):\n",
                "    while text_messages:\n",
                "        current_message = text_messages.pop() \n",
                "        print(current_message)        \n",
                "        sent_messages.append(current_message)\n",
                "\n",
                "print(\"\\n\")\n",
                "send_messages(text_messages, sent_messages)\n",
                "\n",
                "# All for loops can be written as while loops, and vice-versa. Just use whichever loop seems more appropriate to the task at hand.\n",
                "# In general, you should use a for loop when you know how many times the loop should run. If you want the loop to break based on a condition other than the number of times it runs, you should use a while loop.\n"
            ]
        },
        {
            "cell_type": "markdown",
            "metadata": {},
            "source": [
                "8.11 Archived Messages"
            ]
        },
        {
            "cell_type": "code",
            "execution_count": 45,
            "metadata": {},
            "outputs": [
                {
                    "name": "stdout",
                    "output_type": "stream",
                    "text": [
                        "Happy New Year\n",
                        "Guten Rutsch ins neue Jahr\n",
                        "Happy Holidays\n",
                        "I wish you a good week.\n",
                        "\n",
                        "\n",
                        "I wish you a good week.\n",
                        "Happy Holidays\n",
                        "Guten Rutsch ins neue Jahr\n",
                        "Happy New Year\n",
                        "\n",
                        "Final lists:\n",
                        "['Happy New Year', 'Guten Rutsch ins neue Jahr', 'Happy Holidays', 'I wish you a good week.']\n",
                        "['I wish you a good week.', 'Happy Holidays', 'Guten Rutsch ins neue Jahr', 'Happy New Year']\n"
                    ]
                }
            ],
            "source": [
                "def show_messages(text_messages):\n",
                "    for message in text_messages:\n",
                "        print(message)\n",
                "\n",
                "text_messages = ['Happy New Year', 'Guten Rutsch ins neue Jahr', 'Happy Holidays', 'I wish you a good week.']\n",
                "show_messages(text_messages)\n",
                "\n",
                "sent_messages = []\n",
                "\n",
                "def send_messages(text_messages, sent_messages):\n",
                "    while text_messages:\n",
                "        current_message = text_messages.pop() \n",
                "        print(current_message)        \n",
                "        sent_messages.append(current_message)\n",
                "\n",
                "print(\"\\n\")\n",
                "send_messages(text_messages[:], sent_messages)\n",
                "\n",
                "print(\"\\nFinal lists:\")\n",
                "print(text_messages)\n",
                "print(sent_messages)"
            ]
        },
        {
            "cell_type": "markdown",
            "metadata": {},
            "source": [
                "8.12 Sandwiches"
            ]
        },
        {
            "cell_type": "code",
            "execution_count": 48,
            "metadata": {},
            "outputs": [
                {
                    "name": "stdout",
                    "output_type": "stream",
                    "text": [
                        "Sure, you've selected the following for your sandwiches:\n",
                        "- Egg\n",
                        "Sure, you've selected the following for your sandwiches:\n",
                        "- Bacon\n",
                        "- Cheese\n",
                        "Sure, you've selected the following for your sandwiches:\n",
                        "- Tomatoes\n",
                        "- Lettuce\n",
                        "- Ham\n"
                    ]
                }
            ],
            "source": [
                "def sandwiches (*items):\n",
                "    print(\"Sure, you've selected the following for your sandwiches:\")\n",
                "    for item in items:\n",
                "        print(f\"- {item.title()}\")\n",
                "\n",
                "sandwiches('egg')\n",
                "sandwiches('bacon', 'cheese')\n",
                "sandwiches('tomatoes', 'lettuce', 'ham')"
            ]
        },
        {
            "cell_type": "markdown",
            "metadata": {},
            "source": [
                "8.13 User Profile"
            ]
        },
        {
            "cell_type": "code",
            "execution_count": 49,
            "metadata": {},
            "outputs": [
                {
                    "name": "stdout",
                    "output_type": "stream",
                    "text": [
                        "{'location': 'Zurich', 'field': 'Data Analytics', 'first_name': 'Jenny', 'last_name': 'Kim'}\n"
                    ]
                }
            ],
            "source": [
                "def build_profile(first, last, **my_info):\n",
                "    my_info['first_name'] = first\n",
                "    my_info['last_name'] = last\n",
                "    return my_info\n",
                "\n",
                "my_profile = build_profile('Jenny', 'Kim', location = 'Zurich', field = 'Data Analytics')\n",
                "\n",
                "print (my_profile)"
            ]
        },
        {
            "cell_type": "markdown",
            "metadata": {},
            "source": [
                "8.14 Cars"
            ]
        },
        {
            "cell_type": "code",
            "execution_count": 56,
            "metadata": {},
            "outputs": [
                {
                    "name": "stdout",
                    "output_type": "stream",
                    "text": [
                        "{'color': 'blue', 'tow_package': True, 'Manufacturer': 'subaru', 'Model Name': 'outback'}\n"
                    ]
                }
            ],
            "source": [
                "def make_car(maker, model, **dict):\n",
                "    dict['Manufacturer'] = maker\n",
                "    dict['Model Name'] = model\n",
                "    return dict\n",
                "\n",
                "car = make_car('subaru', 'outback', color = 'blue', tow_package = True)\n",
                "print(car)"
            ]
        },
        {
            "cell_type": "markdown",
            "metadata": {},
            "source": [
                "8.15 Printing Models"
            ]
        },
        {
            "cell_type": "code",
            "execution_count": 14,
            "metadata": {},
            "outputs": [
                {
                    "name": "stdout",
                    "output_type": "stream",
                    "text": [
                        "Printing model: C Phone\n",
                        "Printing model: B Phone\n",
                        "Printing model: A Phone\n",
                        "\n",
                        "The following models have been printed:\n",
                        "['C Phone', 'B Phone', 'A Phone']\n",
                        "['C Phone', 'B Phone', 'A Phone']\n",
                        "['C Phone', 'B Phone', 'A Phone']\n"
                    ]
                }
            ],
            "source": [
                "import printing_functions as pf\n",
                "\n",
                "unprinted_designs = ['A Phone', 'B Phone', 'C Phone']\n",
                "completed_models = []\n",
                "pf.print_models(unprinted_designs, completed_models)\n",
                "pf.show_completed_models(completed_models)\n",
                "\n"
            ]
        },
        {
            "cell_type": "code",
            "execution_count": 12,
            "metadata": {},
            "outputs": [
                {
                    "name": "stdout",
                    "output_type": "stream",
                    "text": [
                        "c:\\Users\\jenny\\venvs\\py39\\Python Crash Course\n"
                    ]
                }
            ],
            "source": [
                "import os\n",
                "cwd = os.getcwd()\n",
                "print(cwd)\n"
            ]
        },
        {
            "cell_type": "markdown",
            "metadata": {},
            "source": [
                "9.1 Restaurant"
            ]
        },
        {
            "cell_type": "code",
            "execution_count": 17,
            "metadata": {},
            "outputs": [
                {
                    "name": "stdout",
                    "output_type": "stream",
                    "text": [
                        "My Thai\n",
                        "gourmet Thai food\n",
                        "The restaurant is called My Thai and it serves gourmet Thai food\n"
                    ]
                }
            ],
            "source": [
                "class Restaurant():\n",
                "    def __init__(self, restaurant_name, cuisine_type):\n",
                "        self.restaurant_name = restaurant_name.title()\n",
                "        self.cuisine_type = cuisine_type\n",
                "\n",
                "    def describe_restaurant (self):\n",
                "        print(f\"The restaurant is called {self.restaurant_name} and it serves {self.cuisine_type}\")\n",
                "    \n",
                "    def open_restaurant(self):\n",
                "        print (f\"{self.restaurant_name} is open.\")\n",
                "\n",
                "restaurant = Restaurant('My Thai', 'gourmet Thai food')\n",
                "print(restaurant.restaurant_name)\n",
                "print(restaurant.cuisine_type)\n",
                "\n",
                "restaurant.describe_restaurant()\n"
            ]
        },
        {
            "cell_type": "markdown",
            "metadata": {},
            "source": [
                "9.2 Three Restaurants"
            ]
        },
        {
            "cell_type": "code",
            "execution_count": 23,
            "metadata": {},
            "outputs": [
                {
                    "name": "stdout",
                    "output_type": "stream",
                    "text": [
                        "The restaurant is called Coop and it serves cheap lunch\n",
                        "The restaurant is called Ruesterei and it serves continental European food\n",
                        "The restaurant is called Subway and it serves hand-made and ready-to-go sandwiches\n"
                    ]
                }
            ],
            "source": [
                "class Restaurant():\n",
                "    def __init__(self, restaurant_name, cuisine_type):\n",
                "        self.restaurant_name = restaurant_name.title()\n",
                "        self.cuisine_type = cuisine_type\n",
                "\n",
                "    def describe_restaurant (self):\n",
                "        print(f\"The restaurant is called {self.restaurant_name} and it serves {self.cuisine_type}\")\n",
                "    \n",
                "    def open_restaurant(self):\n",
                "        print (f\"{self.restaurant_name} is open.\")\n",
                "\n",
                "r1 = Restaurant('Coop', 'cheap lunch')\n",
                "r1.describe_restaurant()\n",
                "\n",
                "r2 = Restaurant('Ruesterei', 'continental European food')\n",
                "r2.describe_restaurant()\n",
                "\n",
                "r3 = Restaurant('Subway', 'hand-made and ready-to-go sandwiches')\n",
                "r3.describe_restaurant()\n"
            ]
        },
        {
            "cell_type": "markdown",
            "metadata": {},
            "source": [
                "9.3 Users"
            ]
        },
        {
            "cell_type": "code",
            "execution_count": 25,
            "metadata": {},
            "outputs": [
                {
                    "name": "stdout",
                    "output_type": "stream",
                    "text": [
                        "The user's name is Jenny Kim.\n",
                        "Have a good day, Jenny!\n"
                    ]
                }
            ],
            "source": [
                "class Users():\n",
                "    def __init__(self, first_name, last_name):\n",
                "        self.first_name = first_name.title()\n",
                "        self.last_name = last_name.title()\n",
                "\n",
                "    def describe_user(self):\n",
                "        print(f\"The user's name is {self.first_name} {self.last_name}.\")\n",
                "    \n",
                "    def greet_user(self):\n",
                "        print(f\"Have a good day, {self.first_name}!\")class Users():\n",
                "    def __init__(self, first_name, last_name):\n",
                "        self.first_name = first_name.title()\n",
                "        self.last_name = last_name.title()\n",
                "\n",
                "    def describe_user(self):\n",
                "        print(f\"The user's name is {self.first_name} {self.last_name}.\")\n",
                "    \n",
                "    def greet_user(self):\n",
                "        print(f\"Have a good day, {self.first_name}!\")\n",
                "\n",
                "n1 = Users('Jenny', 'Kim')\n",
                "n1.describe_user()\n",
                "n1.greet_user()\n"
            ]
        },
        {
            "cell_type": "markdown",
            "metadata": {},
            "source": [
                "9.4 Number Served"
            ]
        },
        {
            "cell_type": "code",
            "execution_count": 32,
            "metadata": {},
            "outputs": [
                {
                    "name": "stdout",
                    "output_type": "stream",
                    "text": [
                        "0\n",
                        "7\n",
                        "17\n"
                    ]
                }
            ],
            "source": [
                "class Restaurant():\n",
                "    def __init__(self, restaurant_name, cuisine_type):\n",
                "        self.restaurant_name = restaurant_name.title()\n",
                "        self.cuisine_type = cuisine_type\n",
                "        self.number_served = 0\n",
                "\n",
                "    def describe_restaurant (self):\n",
                "        print(f\"The restaurant is called {self.restaurant_name} and it serves {self.cuisine_type}\")\n",
                "    \n",
                "    def open_restaurant(self):\n",
                "        print (f\"{self.restaurant_name} is open.\")\n",
                "\n",
                "    def set_number_served(self, served_number):\n",
                "        self.number_served = served_number\n",
                "        print(self.number_served)\n",
                "    \n",
                "    def incremet_number_served(self, incremental_number):\n",
                "        self.number_served += incremental_number \n",
                "        print(self.number_served)\n",
                "\n",
                "restaurant = Restaurant('Ruesterei', 'continental European food')\n",
                "print(restaurant.number_served)\n",
                "restaurant.set_number_served(7)\n",
                "restaurant.incremet_number_served(10)\n"
            ]
        },
        {
            "cell_type": "markdown",
            "metadata": {},
            "source": [
                "9.5 Login Attempts"
            ]
        },
        {
            "cell_type": "code",
            "execution_count": 34,
            "metadata": {},
            "outputs": [
                {
                    "name": "stdout",
                    "output_type": "stream",
                    "text": [
                        "1\n",
                        "2\n",
                        "3\n",
                        "4\n",
                        "0\n"
                    ]
                }
            ],
            "source": [
                "class Users():\n",
                "    def __init__(self, first_name, last_name):\n",
                "        self.first_name = first_name.title()\n",
                "        self.last_name = last_name.title()\n",
                "        self.login_attempts = 1\n",
                "\n",
                "    def describe_user(self):\n",
                "        print(f\"The user's name is {self.first_name} {self.last_name}.\")\n",
                "    \n",
                "    def greet_user(self):\n",
                "        print(f\"Have a good day, {self.first_name}!\")\n",
                "\n",
                "    def increment_login_attempts(self):\n",
                "        self.login_attempts += 1\n",
                "        print(self.login_attempts)\n",
                "    \n",
                "    def reset_login_attempts(self):\n",
                "        self.login_attempts = 0\n",
                "        print(self.login_attempts)\n",
                "\n",
                "u1 = Users('Jenny', 'Kim')\n",
                "print(u1.login_attempts)\n",
                "u1.increment_login_attempts()\n",
                "u1.increment_login_attempts()\n",
                "u1.increment_login_attempts()\n",
                "u1.reset_login_attempts()"
            ]
        },
        {
            "cell_type": "markdown",
            "metadata": {},
            "source": [
                "9.6 Ice Cream Stand"
            ]
        },
        {
            "cell_type": "code",
            "execution_count": 9,
            "metadata": {},
            "outputs": [
                {
                    "name": "stdout",
                    "output_type": "stream",
                    "text": [
                        "['chocolate', 'vanille', 'strawberry', 'capuccino']\n"
                    ]
                }
            ],
            "source": [
                "# Option 1\n",
                "class Restaurant():\n",
                "    def __init__(self, restaurant_name, cuisine_type):\n",
                "        self.restaurant_name = restaurant_name.title()\n",
                "        self.cuisine_type = cuisine_type\n",
                "        self.number_served = 0\n",
                "\n",
                "    def describe_restaurant (self):\n",
                "        print(f\"The restaurant is called {self.restaurant_name} and it serves {self.cuisine_type}\")\n",
                "    \n",
                "    def open_restaurant(self):\n",
                "        print (f\"{self.restaurant_name} is open.\")\n",
                "\n",
                "    def set_number_served(self, served_number):\n",
                "        self.number_served = served_number\n",
                "        print(self.number_served)\n",
                "    \n",
                "    def incremet_number_served(self, incremental_number):\n",
                "        self.number_served += incremental_number \n",
                "        print(self.number_served)\n",
                "\n",
                "class IceCreamStand (Restaurant):\n",
                "    def __init__(self, restaurant_name, cuisine_type):\n",
                "        super().__init__(restaurant_name, cuisine_type)\n",
                "        self.flavors = ['chocolate', 'vanille', 'strawberry', 'capuccino']\n",
                "\n",
                "    \n",
                "stand = IceCreamStand('Hotel Sternen', 'German')\n",
                "print(stand.flavors)"
            ]
        },
        {
            "cell_type": "code",
            "execution_count": 5,
            "metadata": {},
            "outputs": [
                {
                    "name": "stdout",
                    "output_type": "stream",
                    "text": [
                        "We have chocolate\n",
                        "We have vanille\n",
                        "We have strawberry\n",
                        "We have capuccino\n"
                    ]
                }
            ],
            "source": [
                "# Option 2\n",
                "class Restaurant():\n",
                "    def __init__(self, restaurant_name, cuisine_type):\n",
                "        self.restaurant_name = restaurant_name.title()\n",
                "        self.cuisine_type = cuisine_type\n",
                "        self.number_served = 0\n",
                "\n",
                "    def describe_restaurant (self):\n",
                "        print(f\"The restaurant is called {self.restaurant_name} and it serves {self.cuisine_type}\")\n",
                "    \n",
                "    def open_restaurant(self):\n",
                "        print (f\"{self.restaurant_name} is open.\")\n",
                "\n",
                "    def set_number_served(self, served_number):\n",
                "        self.number_served = served_number\n",
                "        print(self.number_served)\n",
                "    \n",
                "    def incremet_number_served(self, incremental_number):\n",
                "        self.number_served += incremental_number \n",
                "        print(self.number_served)\n",
                "\n",
                "class IceCreamStand (Restaurant):\n",
                "    def __init__(self, restaurant_name, cuisine_type):\n",
                "        super().__init__(restaurant_name, cuisine_type)\n",
                "        self.flavors = []\n",
                "\n",
                "    def show_flavors (self):\n",
                "        for flavor in self.flavors:\n",
                "            print(f\"We have {flavor}\")\n",
                "\n",
                "stand = IceCreamStand('Hotel Sternen', 'German')\n",
                "stand.flavors = ['chocolate', 'vanille', 'strawberry', 'capuccino']\n",
                "stand.show_flavors()"
            ]
        },
        {
            "cell_type": "markdown",
            "metadata": {},
            "source": [
                "9.7 Admin"
            ]
        },
        {
            "cell_type": "code",
            "execution_count": 8,
            "metadata": {},
            "outputs": [
                {
                    "name": "stdout",
                    "output_type": "stream",
                    "text": [
                        "The user's name is Jenny Kim.\n",
                        "Have a good day, Jenny!\n",
                        "The Admin user can do the following tasks:\n",
                        "- can add post\n",
                        "- can delete post\n",
                        "- can ban user\n"
                    ]
                }
            ],
            "source": [
                "class Users():\n",
                "    def __init__(self, first_name, last_name):\n",
                "        self.first_name = first_name.title()\n",
                "        self.last_name = last_name.title()\n",
                "\n",
                "    def describe_user(self):\n",
                "        print(f\"The user's name is {self.first_name} {self.last_name}.\")\n",
                "    \n",
                "    def greet_user(self):\n",
                "        print(f\"Have a good day, {self.first_name}!\")\n",
                "\n",
                "class Admin(Users):\n",
                "    def __init__(self, first_name, last_name):\n",
                "        super().__init__(first_name, last_name)\n",
                "        self.privileges = []\n",
                "\n",
                "    def show_priviliges(self):\n",
                "        print ('The Admin user can do the following tasks:')\n",
                "        for privilege in self.privileges:\n",
                "            print(f\"- {privilege}\")\n",
                "\n",
                "a1 = Admin('Jenny', 'Kim')\n",
                "a1.describe_user()\n",
                "a1.greet_user()\n",
                "a1.privileges = ['can add post', 'can delete post', 'can ban user']\n",
                "a1.show_priviliges()"
            ]
        },
        {
            "cell_type": "markdown",
            "metadata": {},
            "source": [
                "9.8 Privileges"
            ]
        },
        {
            "cell_type": "code",
            "execution_count": 17,
            "metadata": {},
            "outputs": [
                {
                    "name": "stdout",
                    "output_type": "stream",
                    "text": [
                        "The user's name is Jenny Kim.\n",
                        "this user has no privileges\n",
                        "- can add post\n",
                        "- can delete post\n",
                        "- can ban user\n"
                    ]
                }
            ],
            "source": [
                "class Users():\n",
                "    def __init__(self, first_name, last_name):\n",
                "        self.first_name = first_name.title()\n",
                "        self.last_name = last_name.title()\n",
                "\n",
                "    def describe_user(self):\n",
                "        print(f\"The user's name is {self.first_name} {self.last_name}.\")\n",
                "    \n",
                "    def greet_user(self):\n",
                "        print(f\"Have a good day, {self.first_name}!\")\n",
                "\n",
                "class Admin(Users):\n",
                "    def __init__(self, first_name, last_name):\n",
                "        super().__init__(first_name, last_name)\n",
                "        self.privileges = Privileges()\n",
                "\n",
                "class Privileges():\n",
                "    def __init__(self, privileges=[]):\n",
                "        self.privileges = privileges\n",
                "\n",
                "    def show_privileges(self):\n",
                "        if self.privileges:\n",
                "            for privilege in self.privileges:\n",
                "                print(f\"- {privilege}\")\n",
                "        else:\n",
                "            print(\"this user has no privileges\")\n",
                "\n",
                "jk = Admin('Jenny', 'Kim')\n",
                "jk.describe_user()\n",
                "jk.privileges.show_privileges()\n",
                "jk.privileges.privileges = ['can add post', 'can delete post', 'can ban user']\n",
                "jk.privileges.show_privileges()"
            ]
        },
        {
            "cell_type": "markdown",
            "metadata": {},
            "source": [
                "9.9 Battery Upgrade"
            ]
        },
        {
            "cell_type": "code",
            "execution_count": 2,
            "metadata": {},
            "outputs": [
                {
                    "name": "stdout",
                    "output_type": "stream",
                    "text": [
                        "This car can go on about 260 miles on a full charge.\n",
                        "Upgrade the battery to 100 kWh.\n",
                        "This car can go on about 315 miles on a full charge.\n"
                    ]
                }
            ],
            "source": [
                "class Car:\n",
                "    def __init__(self, make, model, year):\n",
                "        self.make = make\n",
                "        self.model = model\n",
                "        self.year = year\n",
                "        self.odometer_reading = 0\n",
                "    \n",
                "    def get_descriptive_name(self):\n",
                "        long_name = f\"{self.make} {self.model} {self.year}\"\n",
                "        return long_name.title()\n",
                "\n",
                "    def read_odometer(self):\n",
                "        print(f\"This car has {self.odometer_reading} miles on it.\")\n",
                "\n",
                "    def update_odometer(self, mileage):\n",
                "        if mileage >= self.odometer_reading:\n",
                "            self.odometer_reading = mileage\n",
                "        else:\n",
                "            print(\"You can't roll back an odometer!\")\n",
                "\n",
                "    def incremet_odometer(self, miles):\n",
                "        self.odometer_reading =+ miles\n",
                "\n",
                "class ElectricCar(Car):\n",
                "    def __init__(self, make, model, year):\n",
                "        super().__init__(make, model, year)\n",
                "        self.battery = Battery()\n",
                "\n",
                "class Battery:\n",
                "    def __init__(self, battery_size = 75):\n",
                "        self.battery_size = battery_size\n",
                "    \n",
                "    def describe_battery(self):\n",
                "        print(f\"This car has a {self.battery_size}-kWh battery.\")\n",
                "\n",
                "    def get_range(self):\n",
                "        if self.battery_size == 75:\n",
                "            range = 260\n",
                "        elif self.battery_size == 100:\n",
                "            range = 315\n",
                "        print(f\"This car can go on about {range} miles on a full charge.\")\n",
                "\n",
                "    def upgrade_battery(self):\n",
                "        if self.battery_size < 100:\n",
                "            self.battery_size = 100\n",
                "            print(\"Upgrade the battery to 100 kWh.\")\n",
                "        else:\n",
                "            print(\"The battery is already upgraded.\")\n",
                "\n",
                "my_car = ElectricCar('Ford', 'Focus', '2016')\n",
                "my_car.get_descriptive_name()\n",
                "my_car.battery.get_range()\n",
                "my_car.battery.upgrade_battery()\n",
                "my_car.battery.get_range()\n",
                "            "
            ]
        },
        {
            "cell_type": "markdown",
            "metadata": {},
            "source": [
                "9.10 Imported Restaurant"
            ]
        },
        {
            "cell_type": "code",
            "execution_count": 4,
            "metadata": {},
            "outputs": [
                {
                    "name": "stdout",
                    "output_type": "stream",
                    "text": [
                        "The restaurant is called Subway and it serves chicken teriyaki\n",
                        "Subway is open.\n"
                    ]
                }
            ],
            "source": [
                "from restaurant import Restaurant as r\n",
                "r1 = r('subway', 'chicken teriyaki')\n",
                "r1.describe_restaurant()\n",
                "r1.open_restaurant()"
            ]
        },
        {
            "cell_type": "markdown",
            "metadata": {},
            "source": [
                "9.11 Imported Admin"
            ]
        },
        {
            "cell_type": "code",
            "execution_count": 22,
            "metadata": {},
            "outputs": [
                {
                    "name": "stdout",
                    "output_type": "stream",
                    "text": [
                        "The user's name is Jenny Kim.\n",
                        "Have a good day, Jenny!\n",
                        "- can reset passwords\n",
                        "- can moderate discussions\n",
                        "- can suspend accounts\n"
                    ]
                }
            ],
            "source": [
                "from user import Admin\n",
                "a1 = Admin('Jenny', 'Kim')\n",
                "a1.describe_user()\n",
                "a1.greet_user()\n",
                "\n",
                "a1.privileges.privileges = [\n",
                "    'can reset passwords',\n",
                "    'can moderate discussions',\n",
                "    'can suspend accounts']\n",
                "\n",
                "a1.privileges.show_privileges()"
            ]
        },
        {
            "cell_type": "markdown",
            "metadata": {},
            "source": [
                "9.12 Multiple Modules"
            ]
        },
        {
            "cell_type": "code",
            "execution_count": 27,
            "metadata": {},
            "outputs": [
                {
                    "name": "stdout",
                    "output_type": "stream",
                    "text": [
                        "this user has no privileges\n",
                        "- can reset passwords\n",
                        "- can moderate discussions\n",
                        "- can suspend accounts\n"
                    ]
                }
            ],
            "source": [
                "from user2 import Admin\n",
                "Users ('Jenny', 'Kim')\n",
                "admin = Admin('Jenny', 'Kim')\n",
                "admin.privileges.show_privileges()\n",
                "\n",
                "admin.privileges.privileges = [\n",
                "    'can reset passwords',\n",
                "    'can moderate discussions',\n",
                "    'can suspend accounts']\n",
                "\n",
                "admin.privileges.show_privileges()"
            ]
        },
        {
            "cell_type": "markdown",
            "metadata": {},
            "source": [
                "9.13 Dice"
            ]
        },
        {
            "cell_type": "code",
            "execution_count": 32,
            "metadata": {},
            "outputs": [
                {
                    "name": "stdout",
                    "output_type": "stream",
                    "text": [
                        "[3, 2, 3, 2, 3, 6, 6, 2, 2, 4]\n"
                    ]
                }
            ],
            "source": [
                "from random import randint\n",
                "\n",
                "class Die():\n",
                "    def __init__(self, sides = 6):\n",
                "        self.sides = sides\n",
                "\n",
                "    def roll_die(self):\n",
                "        return randint (1,self.sides)\n",
                "\n",
                "d6 = Die()\n",
                "results = []\n",
                "for roll_num in range(10):\n",
                "    result = d6.roll_die()\n",
                "    results.append(result)\n",
                "\n",
                "print(results)\n"
            ]
        },
        {
            "cell_type": "code",
            "execution_count": 37,
            "metadata": {},
            "outputs": [
                {
                    "name": "stdout",
                    "output_type": "stream",
                    "text": [
                        "[2, 7, 2, 7, 3, 4, 3, 2, 3, 5]\n"
                    ]
                }
            ],
            "source": [
                "d10 = Die(sides = 10)\n",
                "\n",
                "results = []\n",
                "for roll_num in range(10):\n",
                "    result = d10.roll_die()\n",
                "    results.append(result)\n",
                "print(results)"
            ]
        },
        {
            "cell_type": "code",
            "execution_count": 38,
            "metadata": {},
            "outputs": [
                {
                    "name": "stdout",
                    "output_type": "stream",
                    "text": [
                        "[18, 18, 20, 12, 19, 13, 1, 8, 5, 3]\n"
                    ]
                }
            ],
            "source": [
                "d20 = Die(sides=20)\n",
                "results = []\n",
                "for roll_num in range(10):\n",
                "    result = d20.roll_die()\n",
                "    results.append(result)\n",
                "print(results)"
            ]
        },
        {
            "cell_type": "markdown",
            "metadata": {},
            "source": [
                "9.14 Lottery"
            ]
        },
        {
            "cell_type": "code",
            "execution_count": 43,
            "metadata": {},
            "outputs": [
                {
                    "name": "stdout",
                    "output_type": "stream",
                    "text": [
                        "['h', 'a', 7, 'a']\n"
                    ]
                }
            ],
            "source": [
                "from random import choice\n",
                "\n",
                "alpha_numeric = (1,3,5,7,2,'a','h','w','y','x')\n",
                "winning_ticket = []\n",
                "\n",
                "def lottery():\n",
                "    while alpha_numeric:\n",
                "        if len(results) != 4:\n",
                "            num = choice(alpha_numeric)\n",
                "            results.append(num)\n",
                "        elif len(results) == 4:\n",
                "            break\n",
                "\n",
                "lottery()\n",
                "print(results)\n"
            ]
        },
        {
            "cell_type": "markdown",
            "metadata": {},
            "source": [
                "9.15 Lottery Analysis"
            ]
        },
        {
            "cell_type": "code",
            "execution_count": 28,
            "metadata": {},
            "outputs": [
                {
                    "name": "stdout",
                    "output_type": "stream",
                    "text": [
                        "[1, 3, 'w', 2]\n",
                        "It only took 1th times to win the winning ticket!\n",
                        "Your winning ticket is 1\n"
                    ]
                }
            ],
            "source": [
                "from random import choice\n",
                "\n",
                "alpha_numeric = (1,3,5,7,2,'a','h','w','y','x')\n",
                "my_ticket = (1, 17, 'w', 'c')\n",
                "winning_ticket = []\n",
                "\n",
                "def lottery():\n",
                "    while alpha_numeric:\n",
                "        if len(winning_ticket) != 4:\n",
                "            num = choice(alpha_numeric)\n",
                "            if num not in winning_ticket:\n",
                "                winning_ticket.append(num)\n",
                "        elif len(winning_ticket) == 4:\n",
                "            break\n",
                "\n",
                "lottery()\n",
                "print(winning_ticket)\n",
                "\n",
                "def win():\n",
                "    chance = choice(my_ticket)\n",
                "    plays = 1\n",
                "    # global plays  #https://vbsreddy1.medium.com/unboundlocalerror-when-the-variable-has-a-value-in-python-e34e097547d6  \n",
                "    while plays <= 100:\n",
                "        if chance in winning_ticket:\n",
                "            print (f\"It only took {plays}th times to win the winning ticket!\")\n",
                "            print(f\"Your winning ticket is {chance}\")\n",
                "            break\n",
                "        else:\n",
                "            print(f\"Tried {plays} times, without pulling a winner. :(\")\n",
                "        plays += 1\n",
                " \n",
                "win()\n"
            ]
        },
        {
            "cell_type": "markdown",
            "metadata": {},
            "source": [
                "10.1 Learning Python\n",
                "Option 1) Print the contents once by reading in the entire file. "
            ]
        },
        {
            "cell_type": "code",
            "execution_count": 18,
            "metadata": {},
            "outputs": [
                {
                    "name": "stdout",
                    "output_type": "stream",
                    "text": [
                        "In Python you can define your own object. \n",
                        "In Python you can make a tuple, list or dictionary. \n",
                        "In Python you can import and use free online libraries. \n"
                    ]
                }
            ],
            "source": [
                "filename = 'learning_python.txt'\n",
                "\n",
                "with open(filename) as file_object: # with open(filename) as f:\n",
                "    contents = file_object.read()  # contents = f.read()\n",
                "\n",
                "print(contents)\n"
            ]
        },
        {
            "cell_type": "markdown",
            "metadata": {},
            "source": [
                "Option 2) Print the contects by looping over the file object"
            ]
        },
        {
            "cell_type": "code",
            "execution_count": 4,
            "metadata": {},
            "outputs": [
                {
                    "name": "stdout",
                    "output_type": "stream",
                    "text": [
                        "In Python you can define your own object.\n",
                        "In Python you can make a tuple, list or dictionary.\n",
                        "In Python you can import and use free online libraries.\n"
                    ]
                }
            ],
            "source": [
                "filename = 'learning_python.txt'\n",
                "\n",
                "with open(filename) as file_object: # with open(filename) as f:\n",
                "    for line in file_object:        # for line in f:\n",
                "        print(line.rstrip())        "
            ]
        },
        {
            "cell_type": "markdown",
            "metadata": {},
            "source": [
                "Option 3) Print the contects by storing the lines in a list and then working with them outside the with block. "
            ]
        },
        {
            "cell_type": "code",
            "execution_count": 20,
            "metadata": {},
            "outputs": [
                {
                    "name": "stdout",
                    "output_type": "stream",
                    "text": [
                        "In Python you can define your own object.\n",
                        "In Python you can make a tuple, list or dictionary.\n",
                        "In Python you can import and use free online libraries.\n"
                    ]
                }
            ],
            "source": [
                "filename = 'learning_python.txt'\n",
                "\n",
                "with open (filename) as file_object: # with open (filename) as f:\n",
                "    lines = file_object.readlines()   # lines = f.readlines()\n",
                "\n",
                "\n",
                "for line in lines:\n",
                "    print(line.rstrip())"
            ]
        },
        {
            "cell_type": "code",
            "execution_count": 8,
            "metadata": {},
            "outputs": [
                {
                    "name": "stdout",
                    "output_type": "stream",
                    "text": [
                        "I\n",
                        "n\n",
                        "\n",
                        "P\n",
                        "y\n",
                        "t\n",
                        "h\n",
                        "o\n",
                        "n\n",
                        "\n",
                        "y\n",
                        "o\n",
                        "u\n",
                        "\n",
                        "c\n",
                        "a\n",
                        "n\n",
                        "\n",
                        "d\n",
                        "e\n",
                        "f\n",
                        "i\n",
                        "n\n",
                        "e\n",
                        "\n",
                        "y\n",
                        "o\n",
                        "u\n",
                        "r\n",
                        "\n",
                        "o\n",
                        "w\n",
                        "n\n",
                        "\n",
                        "o\n",
                        "b\n",
                        "j\n",
                        "e\n",
                        "c\n",
                        "t\n",
                        ".\n",
                        "\n",
                        "\n"
                    ]
                }
            ],
            "source": [
                "filename = 'learning_python.txt'\n",
                "\n",
                "with open(filename) as f:\n",
                "    lines = f.readline()\n",
                "\n",
                "for line in lines:\n",
                "    print(line.rstrip())"
            ]
        },
        {
            "cell_type": "markdown",
            "metadata": {},
            "source": [
                "10.2 Learning C"
            ]
        },
        {
            "cell_type": "code",
            "execution_count": 2,
            "metadata": {},
            "outputs": [
                {
                    "name": "stdout",
                    "output_type": "stream",
                    "text": [
                        "In Java you can define your own object.\n",
                        "In Java you can make a tuple, list or dictionary.\n",
                        "In Java you can import and use free online libraries.\n"
                    ]
                }
            ],
            "source": [
                "filename = 'learning_python.txt'\n",
                "\n",
                "with open (filename) as f:\n",
                "    lines = f.readlines()\n",
                "\n",
                "for line in lines:\n",
                "    line = line.rstrip().replace('Python', 'Java')  # chaining methods\n",
                "    print(line)"
            ]
        },
        {
            "cell_type": "markdown",
            "metadata": {},
            "source": [
                "10.3 Guest"
            ]
        },
        {
            "cell_type": "code",
            "execution_count": 5,
            "metadata": {},
            "outputs": [
                {
                    "name": "stdout",
                    "output_type": "stream",
                    "text": [
                        "Jenny\n"
                    ]
                }
            ],
            "source": [
                "guest_name = input(\"Could you tell me your name?\")\n",
                "filename = 'guest.txt'\n",
                "\n",
                "with open(filename, 'w') as f:\n",
                "    f.write(str(guest_name))     # You are using \"file.write()\" function. Inside parentheses you must put string.\n",
                "\n",
                "with open(filename) as f:\n",
                "    print(f.read())"
            ]
        },
        {
            "cell_type": "markdown",
            "metadata": {},
            "source": [
                "10.4 Guest Book"
            ]
        },
        {
            "cell_type": "code",
            "execution_count": 12,
            "metadata": {},
            "outputs": [
                {
                    "name": "stdout",
                    "output_type": "stream",
                    "text": [
                        "Welcome, Jenny!\n",
                        "Welcome, Chul!\n",
                        "Welcome, Nathan!\n",
                        "Jenny Chul Nathan \n"
                    ]
                }
            ],
            "source": [
                "filename = 'guest_book.txt'\n",
                "\n",
                "while True:\n",
                "    guest_name = input(\"Could you tell me your name?  Please enter q if you wish to quit.\")\n",
                "    if guest_name == 'q':\n",
                "        break\n",
                "    else: \n",
                "        print(f\"Welcome, {guest_name.title()}!\")\n",
                "        with open(filename, 'a') as f:\n",
                "            lines = f.write(guest_name.title() + \" \")\n",
                "\n",
                "with open(filename) as f:\n",
                "    contents = f.read()\n",
                "\n",
                "print(contents)\n"
            ]
        },
        {
            "cell_type": "markdown",
            "metadata": {},
            "source": [
                "10.5 Programming Poll"
            ]
        },
        {
            "cell_type": "code",
            "execution_count": 15,
            "metadata": {},
            "outputs": [],
            "source": [
                "filename = 'programming_poll.txt'\n",
                "\n",
                "while True:\n",
                "    reasons = input(\"Why do you like programming? Please enter q if you wish you to quit.\")\n",
                "    if reasons == 'q':\n",
                "        break\n",
                "    else:\n",
                "        with open(filename, 'a') as f:\n",
                "            f.write(f\"{reasons}\\n\")\n"
            ]
        },
        {
            "cell_type": "code",
            "execution_count": 16,
            "metadata": {},
            "outputs": [
                {
                    "name": "stdout",
                    "output_type": "stream",
                    "text": [
                        "it autoamtes tasks\n",
                        "it will give me a new career\n",
                        "it's less boring than auditing\n",
                        "\n"
                    ]
                }
            ],
            "source": [
                "with open(filename) as f:\n",
                "    contents = f.read()\n",
                "\n",
                "print(contents)"
            ]
        },
        {
            "cell_type": "markdown",
            "metadata": {},
            "source": [
                "10.6 Addition"
            ]
        },
        {
            "cell_type": "markdown",
            "metadata": {},
            "source": [
                "Option1"
            ]
        },
        {
            "cell_type": "code",
            "execution_count": 13,
            "metadata": {},
            "outputs": [
                {
                    "name": "stdout",
                    "output_type": "stream",
                    "text": [
                        "One or both numbers that you have provided are not in a numeric format.\n"
                    ]
                }
            ],
            "source": [
                "while True:\n",
                "    try:\n",
                "        num1 = int(input('Can you give me the first number that you want to add?'))\n",
                "        num2 = int(input('Now pleae give me the second number that you want to add.'))\n",
                "        sum = num1 + num2\n",
                "        print(sum)\n",
                "        break\n",
                "    except ValueError:\n",
                "        print('One or both numbers that you have provided are not in a numeric format.')\n",
                "        break"
            ]
        },
        {
            "cell_type": "markdown",
            "metadata": {},
            "source": [
                "Option 2"
            ]
        },
        {
            "cell_type": "code",
            "execution_count": 14,
            "metadata": {},
            "outputs": [
                {
                    "name": "stdout",
                    "output_type": "stream",
                    "text": [
                        "92\n"
                    ]
                }
            ],
            "source": [
                "try:\n",
                "        num1 = int(input('Can you give me the first number that you want to add?'))\n",
                "        num2 = int(input('Now pleae give me the second number that you want to add.'))\n",
                "        sum = num1 + num2\n",
                "        print(sum)\n",
                "except ValueError:\n",
                "        print('One or both numbers that you have provided are not in a numeric format.')"
            ]
        },
        {
            "cell_type": "markdown",
            "metadata": {},
            "source": [
                "Option 3"
            ]
        },
        {
            "cell_type": "code",
            "execution_count": 17,
            "metadata": {},
            "outputs": [
                {
                    "name": "stdout",
                    "output_type": "stream",
                    "text": [
                        "One or both numbers that you have provided are not in a numeric format.\n"
                    ]
                }
            ],
            "source": [
                "try:\n",
                "    num1 = int(input('Can you give me the first number that you want to add?'))\n",
                "    num2 = int(input('Now pleae give me the second number that you want to add.'))\n",
                "\n",
                "except ValueError:\n",
                "    print('One or both numbers that you have provided are not in a numeric format.')\n",
                "\n",
                "else:\n",
                "    sum = num1 + num2\n",
                "    print(sum)"
            ]
        },
        {
            "cell_type": "markdown",
            "metadata": {},
            "source": [
                "10.7 Addition Calculator"
            ]
        },
        {
            "cell_type": "code",
            "execution_count": 26,
            "metadata": {},
            "outputs": [
                {
                    "name": "stdout",
                    "output_type": "stream",
                    "text": [
                        "Can you give me the two numbers that you want to add?\n",
                        "41\n"
                    ]
                }
            ],
            "source": [
                "print('Can you give me the two numbers that you want to add?')\n",
                "\n",
                "while True:\n",
                "    num1 = input('\\nFirst number: ')\n",
                "    num2 = input('\\nSecond number: ')\n",
                "    \n",
                "    try:\n",
                "        int(num1) == True\n",
                "        int(num2) == True\n",
                "        \n",
                "    except ValueError:\n",
                "        print(\"The input that you have provided is not in a numeric format. Please enter the numbers again, this time in a numeric format.\")\n",
                "    \n",
                "    else:\n",
                "        sum = int(num1) + int(num2)\n",
                "        print(sum)\n",
                "        break\n",
                "        "
            ]
        },
        {
            "cell_type": "markdown",
            "metadata": {},
            "source": [
                "10.8 Cats and Dogs"
            ]
        },
        {
            "cell_type": "code",
            "execution_count": 37,
            "metadata": {},
            "outputs": [
                {
                    "name": "stdout",
                    "output_type": "stream",
                    "text": [
                        "Persian Cat\n",
                        "Siamese Cat\n",
                        "Abyssinian\n",
                        "The file is not stored in the right directory.\n"
                    ]
                }
            ],
            "source": [
                "filenames = ['cats.txt', 'dogs.txt']\n",
                "\n",
                "def print_files (filename):\n",
                "    try:\n",
                "        with open(filename) as f:\n",
                "            contents = f.read()  # f.readlines() takes each line from the file and stores it in a list. \n",
                "            print(contents)\n",
                "    \n",
                "    except FileNotFoundError:\n",
                "        print(\"The file is not stored in the right directory.\")\n",
                "\n",
                "for file in filenames:\n",
                "    print_files(file)"
            ]
        },
        {
            "cell_type": "markdown",
            "metadata": {},
            "source": [
                "10.9 Silent Cats and Dogs"
            ]
        },
        {
            "cell_type": "code",
            "execution_count": 38,
            "metadata": {},
            "outputs": [
                {
                    "name": "stdout",
                    "output_type": "stream",
                    "text": [
                        "Persian Cat\n",
                        "Siamese Cat\n",
                        "Abyssinian\n"
                    ]
                }
            ],
            "source": [
                "filenames = ['cats.txt', 'dogs.txt']\n",
                "\n",
                "def print_files (filename):\n",
                "    try:\n",
                "        with open(filename) as f:\n",
                "            contents = f.read()  # f.readlines() takes each line from the file and stores it in a list. \n",
                "            print(contents)\n",
                "    \n",
                "    except FileNotFoundError:\n",
                "        pass\n",
                "\n",
                "for file in filenames:\n",
                "    print_files(file)"
            ]
        },
        {
            "cell_type": "markdown",
            "metadata": {},
            "source": [
                "10.10 Common Words"
            ]
        },
        {
            "cell_type": "markdown",
            "metadata": {},
            "source": [
                "First Try"
            ]
        },
        {
            "cell_type": "code",
            "execution_count": 41,
            "metadata": {},
            "outputs": [
                {
                    "data": {
                        "text/plain": [
                            "3617"
                        ]
                    },
                    "execution_count": 41,
                    "metadata": {},
                    "output_type": "execute_result"
                }
            ],
            "source": [
                "filename = 'great_gatsby.txt'\n",
                "\n",
                "with open(filename, encoding='utf-8') as f:\n",
                "    contents = f.read()\n",
                "\n",
                "contents.lower().count('the')"
            ]
        },
        {
            "cell_type": "markdown",
            "metadata": {},
            "source": [
                "Second Try"
            ]
        },
        {
            "cell_type": "code",
            "execution_count": 42,
            "metadata": {},
            "outputs": [
                {
                    "data": {
                        "text/plain": [
                            "2367"
                        ]
                    },
                    "execution_count": 42,
                    "metadata": {},
                    "output_type": "execute_result"
                }
            ],
            "source": [
                "filename = 'great_gatsby.txt'\n",
                "\n",
                "with open(filename, encoding='utf-8') as f:\n",
                "    contents = f.read()\n",
                "\n",
                "contents.lower().count('the ')"
            ]
        },
        {
            "cell_type": "markdown",
            "metadata": {},
            "source": [
                "Chapter 10 Example"
            ]
        },
        {
            "cell_type": "code",
            "execution_count": 44,
            "metadata": {},
            "outputs": [
                {
                    "name": "stdout",
                    "output_type": "stream",
                    "text": [
                        "We'll remember you when you come back, Jenny!\n"
                    ]
                }
            ],
            "source": [
                "import json\n",
                "\n",
                "def get_stored_username():\n",
                "    filename = 'username.json'\n",
                "    try:\n",
                "        with open(filename) as f:\n",
                "            username = json.load(f)\n",
                "    except FileNotFoundError:\n",
                "        return None\n",
                "    else:\n",
                "        return username\n",
                "\n",
                "def get_new_username():\n",
                "    username = input(\"What's your name?\")\n",
                "    filename = 'username.json'\n",
                "    with open(filename, 'w') as f:\n",
                "        json.dump(username, f)\n",
                "    return username\n",
                "\n",
                "def greet_user():\n",
                "    username = get_stored_username()\n",
                "    if username:\n",
                "        print(f\"Welcome back, {username}!\")\n",
                "    else:\n",
                "        username = get_new_username()\n",
                "        print(f\"We'll remember you when you come back, {username}!\")\n",
                "\n",
                "greet_user()"
            ]
        },
        {
            "cell_type": "markdown",
            "metadata": {},
            "source": [
                "10-11 Favorite Number"
            ]
        },
        {
            "cell_type": "code",
            "execution_count": 4,
            "metadata": {},
            "outputs": [
                {
                    "name": "stdout",
                    "output_type": "stream",
                    "text": [
                        "I know your favorite number, it's 55\n"
                    ]
                }
            ],
            "source": [
                "import json\n",
                "\n",
                "filename = 'favorite_number.json'\n",
                "fnum = input('What is your favorite number?')\n",
                "\n",
                "with open (filename, 'w') as f:\n",
                "    json.dump(fnum, f)\n",
                "\n",
                "\n",
                "with open(filename) as f:\n",
                "    content = json.load(f)\n",
                "    print(f\"I know your favorite number, it's {content}\")"
            ]
        },
        {
            "cell_type": "markdown",
            "metadata": {},
            "source": [
                "10-12 Favorite Number Remembered"
            ]
        },
        {
            "cell_type": "markdown",
            "metadata": {},
            "source": [
                "\n",
                "\"\"\"\"Below didn't work\"\"\"\"\n",
                "\n",
                "import json\n",
                "\n",
                "filename = 'favorite_number.json'\n",
                "fnum = input('What is your favorite number?')\n",
                "\n",
                "if fnum in filename:\n",
                "    with open(filename) as f:\n",
                "        content = json.load(f)\n",
                "        print(f\"I know your favorite number, it's {content}\")\n",
                "else:\n",
                "    with open (filename, 'w') as f:\n",
                "        json.dump(fnum, f)\n"
            ]
        },
        {
            "cell_type": "code",
            "execution_count": 10,
            "metadata": {},
            "outputs": [
                {
                    "name": "stdout",
                    "output_type": "stream",
                    "text": [
                        "Feb\n"
                    ]
                }
            ],
            "source": [
                "filename = 'favorite_month.json'\n",
                "with open(filename) as f:\n",
                "    content = json.load(f)\n",
                "    print(content.title())"
            ]
        },
        {
            "cell_type": "code",
            "execution_count": 15,
            "metadata": {},
            "outputs": [
                {
                    "name": "stdout",
                    "output_type": "stream",
                    "text": [
                        "I know your favorite month! It's Feb.\n"
                    ]
                }
            ],
            "source": [
                "import json\n",
                "\n",
                "try:\n",
                "    with open('favorite_month.json') as f:\n",
                "        content = json.load(f)\n",
                "        print(f\"I know your favorite month! It's {content.title()}.\")\n",
                "except FileNotFoundError:\n",
                "    fmth = input('What is your favorite month?')\n",
                "    with open ('favorite_month.json', 'w') as f:\n",
                "        json.dump(fmth, f)\n",
                "        print(f\"OK, I will rememer your favorite month next time.\")"
            ]
        },
        {
            "cell_type": "markdown",
            "metadata": {},
            "source": [
                "10.13 Verify User"
            ]
        },
        {
            "cell_type": "code",
            "execution_count": 20,
            "metadata": {},
            "outputs": [
                {
                    "name": "stdout",
                    "output_type": "stream",
                    "text": [
                        "We'll remember you when you come back, Jenny!\n"
                    ]
                }
            ],
            "source": [
                "import json\n",
                "\n",
                "def get_stored_username():\n",
                "    filename = 'username.json'\n",
                "    try:\n",
                "        with open(filename) as f:\n",
                "            username = json.load(f)\n",
                "    except FileNotFoundError:\n",
                "        return None\n",
                "    else:\n",
                "        return username\n",
                "\n",
                "def get_new_username():\n",
                "    username = input(\"What's your name?\")\n",
                "    filename = 'username.json'\n",
                "    with open(filename, 'w') as f:\n",
                "        json.dump(username, f)\n",
                "    return username\n",
                "\n",
                "def check_greet_user():\n",
                "    username = get_stored_username()\n",
                "    if username:\n",
                "        response = input(f\"Is this {username.title()} your username? Please answer y or n.\")\n",
                "        if response =='y':\n",
                "            print(f\"Welcome back, {username.title()}!\")\n",
                "        else:\n",
                "            username = get_new_username()\n",
                "            print(f\"We'll remember you when you come back, {username.title()}!\")\n",
                "    else:\n",
                "        username = get_new_username()\n",
                "        print(f\"We'll remember you when you come back, {username.title()}!\")\n",
                "\n",
                "\n",
                "check_greet_user()\n"
            ]
        }
    ],
    "metadata": {
        "interpreter": {
            "hash": "cdcefe4f1a376183fcf07dc6c14f5f749d044126ac71b6d63f951a55158dab2c"
        },
        "kernelspec": {
            "display_name": "Python 3.9.1 64-bit ('py39': venv)",
            "name": "python3"
        },
        "language_info": {
            "codemirror_mode": {
                "name": "ipython",
                "version": 3
            },
            "file_extension": ".py",
            "mimetype": "text/x-python",
            "name": "python",
            "nbconvert_exporter": "python",
            "pygments_lexer": "ipython3",
            "version": "3.9.1"
        },
        "orig_nbformat": 4
    },
    "nbformat": 4,
    "nbformat_minor": 2
}
