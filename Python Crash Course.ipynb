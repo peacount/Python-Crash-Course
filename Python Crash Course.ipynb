{
    "cells": [
        {
            "cell_type": "code",
            "execution_count": 5,
            "source": [
                "magicians = ['alice', 'david', 'carolina']\r\n",
                "for magician in magicians:\r\n",
                "    print(f\"{magician.title()}, that was a great trick!\")"
            ],
            "outputs": [
                {
                    "output_type": "stream",
                    "name": "stdout",
                    "text": [
                        "Alice, that was a great trick!\n",
                        "David, that was a great trick!\n",
                        "Carolina, that was a great trick!\n"
                    ]
                }
            ],
            "metadata": {}
        },
        {
            "cell_type": "markdown",
            "source": [
                "4.10"
            ],
            "metadata": {}
        },
        {
            "cell_type": "code",
            "execution_count": 2,
            "source": [
                "my_foods = ['pizza', 'falafel', 'carrot cake', 'cannoli']\r\n",
                "print(my_foods[:2])"
            ],
            "outputs": [
                {
                    "output_type": "stream",
                    "name": "stdout",
                    "text": [
                        "['pizza', 'falafel']\n"
                    ]
                }
            ],
            "metadata": {}
        },
        {
            "cell_type": "code",
            "execution_count": 4,
            "source": [
                "print(my_foods[1:4])"
            ],
            "outputs": [
                {
                    "output_type": "stream",
                    "name": "stdout",
                    "text": [
                        "['falafel', 'carrot cake', 'cannoli']\n"
                    ]
                }
            ],
            "metadata": {}
        },
        {
            "cell_type": "code",
            "execution_count": 6,
            "source": [
                "print(my_foods[-3:])"
            ],
            "outputs": [
                {
                    "output_type": "stream",
                    "name": "stdout",
                    "text": [
                        "['falafel', 'carrot cake', 'cannoli']\n"
                    ]
                }
            ],
            "metadata": {}
        },
        {
            "cell_type": "markdown",
            "source": [
                "4.1 & 4.11"
            ],
            "metadata": {}
        },
        {
            "cell_type": "code",
            "execution_count": 9,
            "source": [
                "pizzas  = ['hawaian', 'poscuitto', 'salami', 'magherita']\r\n",
                "for pizza in pizzas:\r\n",
                "    print(pizza)"
            ],
            "outputs": [
                {
                    "output_type": "stream",
                    "name": "stdout",
                    "text": [
                        "hawaian\n",
                        "poscuitto\n",
                        "salami\n",
                        "magherita\n"
                    ]
                }
            ],
            "metadata": {}
        },
        {
            "cell_type": "code",
            "execution_count": 42,
            "source": [
                "pizzas  = ['hawaian', 'poscuitto', 'salami', 'magherita']\r\n",
                "for pizza in pizzas:\r\n",
                "    print('I love ' f\"{pizza}\")\r\n",
                "print (\"I really love pizza!\")"
            ],
            "outputs": [
                {
                    "output_type": "stream",
                    "name": "stdout",
                    "text": [
                        "I love hawaian\n",
                        "I love poscuitto\n",
                        "I love salami\n",
                        "I love magherita\n",
                        "I really love pizza!\n"
                    ]
                }
            ],
            "metadata": {}
        },
        {
            "cell_type": "code",
            "execution_count": 46,
            "source": [
                "pizzas  = ['hawaian', 'poscuitto', 'salami', 'magherita']\r\n",
                "freind_pizzas  = ['hawaian', 'poscuitto', 'salami', 'magherita']\r\n",
                "\r\n",
                "pizzas.append('prawns')\r\n",
                "print('My favourite pizzas are: ')\r\n",
                "for pizza in pizzas:\r\n",
                "    print(' * ' f\"{pizza.title()}\")\r\n",
                "\r\n",
                "freind_pizzas.append('egg')\r\n",
                "print('\\nBut favourite pizzas of my friend are: ')\r\n",
                "for freind_pizza in freind_pizzas:\r\n",
                "    print(' *' f\"{freind_pizza}\")"
            ],
            "outputs": [
                {
                    "output_type": "stream",
                    "name": "stdout",
                    "text": [
                        "My favourite pizzas are: \n",
                        " * Hawaian\n",
                        " * Poscuitto\n",
                        " * Salami\n",
                        " * Magherita\n",
                        " * Prawns\n",
                        "\n",
                        "But favourite pizzas of my friend are: \n",
                        " *hawaian\n",
                        " *poscuitto\n",
                        " *salami\n",
                        " *magherita\n",
                        " *egg\n"
                    ]
                }
            ],
            "metadata": {}
        },
        {
            "cell_type": "markdown",
            "source": [
                "4.12"
            ],
            "metadata": {}
        },
        {
            "cell_type": "code",
            "execution_count": 58,
            "source": [
                "my_foods = ['pizza', 'falafel', 'carrot cake', 'cannoli']\r\n",
                "friend_foods = my_foods[:]\r\n",
                "print('My favourite foods are:')\r\n",
                "print (my_foods)\r\n",
                "print('\\nMy friend\\'s favourite foods are:')\r\n",
                "print(friend_foods)"
            ],
            "outputs": [
                {
                    "output_type": "stream",
                    "name": "stdout",
                    "text": [
                        "My favourite foods are:\n",
                        "['pizza', 'falafel', 'carrot cake', 'cannoli']\n",
                        "\n",
                        "My friend's favourite foods are:\n",
                        "['pizza', 'falafel', 'carrot cake', 'cannoli']\n"
                    ]
                }
            ],
            "metadata": {}
        },
        {
            "cell_type": "code",
            "execution_count": 60,
            "source": [
                "my_foods = ['pizza', 'falafel', 'carrot cake', 'cannoli']\r\n",
                "friend_foods = my_foods[:]\r\n",
                "print('My favourite foods are:')\r\n",
                "for food in my_foods:\r\n",
                "    print(\" * \" f\"{food}\")\r\n",
                "print('\\nMy friend\\'s favourite foods are:')\r\n",
                "for food in friend_foods:\r\n",
                "    print(\" * \" f\"{food}\")"
            ],
            "outputs": [
                {
                    "output_type": "stream",
                    "name": "stdout",
                    "text": [
                        "My favourite foods are:\n",
                        " * pizza\n",
                        " * falafel\n",
                        " * carrot cake\n",
                        " * cannoli\n",
                        "\n",
                        "My friend's favourite foods are:\n",
                        " * pizza\n",
                        " * falafel\n",
                        " * carrot cake\n",
                        " * cannoli\n"
                    ]
                }
            ],
            "metadata": {}
        },
        {
            "cell_type": "markdown",
            "source": [
                "4.13"
            ],
            "metadata": {}
        },
        {
            "cell_type": "code",
            "execution_count": null,
            "source": [
                "foods = ('salad', 'sweet and sour chicken', 'sushi', 'ice cream', 'coffee')\r\n",
                "\r\n"
            ],
            "outputs": [],
            "metadata": {}
        }
    ],
    "metadata": {
        "orig_nbformat": 4,
        "language_info": {
            "name": "python",
            "version": "3.9.1",
            "mimetype": "text/x-python",
            "codemirror_mode": {
                "name": "ipython",
                "version": 3
            },
            "pygments_lexer": "ipython3",
            "nbconvert_exporter": "python",
            "file_extension": ".py"
        },
        "kernelspec": {
            "name": "python3",
            "display_name": "Python 3.9.1 64-bit ('py39': venv)"
        },
        "interpreter": {
            "hash": "cdcefe4f1a376183fcf07dc6c14f5f749d044126ac71b6d63f951a55158dab2c"
        }
    },
    "nbformat": 4,
    "nbformat_minor": 2
}